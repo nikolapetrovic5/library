{
 "cells": [
  {
   "cell_type": "markdown",
   "metadata": {},
   "source": [
    "### Import Modules"
   ]
  },
  {
   "cell_type": "code",
   "execution_count": 1,
   "metadata": {},
   "outputs": [],
   "source": [
    "import os\n",
    "\n",
    "import ipywidgets as widgets\n",
    "from IPython.display import display\n",
    "\n",
    "from pyspark.sql import SparkSession\n",
    "from pyspark.sql.types import StringType, DecimalType, LongType, ArrayType\n",
    "from pyspark.sql.functions import to_date, from_json, regexp_replace, col, when, lower, initcap, explode_outer, datediff, desc, split, lit, round, avg, count, date_format"
   ]
  },
  {
   "cell_type": "markdown",
   "metadata": {},
   "source": [
    "### Define environment throughout widgets"
   ]
  },
  {
   "cell_type": "code",
   "execution_count": 2,
   "metadata": {},
   "outputs": [
    {
     "data": {
      "application/vnd.jupyter.widget-view+json": {
       "model_id": "adcca1aad88b485ca8a23bdb601a84c9",
       "version_major": 2,
       "version_minor": 0
      },
      "text/plain": [
       "Text(value='dev')"
      ]
     },
     "metadata": {},
     "output_type": "display_data"
    }
   ],
   "source": [
    "# In the case of multiple environments, widgets can be utilized as\n",
    "# parameters to schedule the notebook, allowing it to execute in\n",
    "# different environments with corresponding configuration files.\n",
    "\n",
    "environment_widget = widgets.Text(value=\"dev\", disabled = False)\n",
    "display(environment_widget)"
   ]
  },
  {
   "cell_type": "markdown",
   "metadata": {},
   "source": [
    "### Execute the shared notebook to utilize the common utilities."
   ]
  },
  {
   "cell_type": "code",
   "execution_count": 3,
   "metadata": {},
   "outputs": [
    {
     "name": "stdout",
     "output_type": "stream",
     "text": [
      "Requirement already satisfied: PyYAML in c:\\users\\nikola\\appdata\\local\\programs\\python\\python310\\lib\\site-packages (6.0.2)\n",
      "Note: you may need to restart the kernel to use updated packages.\n"
     ]
    },
    {
     "name": "stderr",
     "output_type": "stream",
     "text": [
      "\n",
      "[notice] A new release of pip is available: 24.0 -> 24.3.1\n",
      "[notice] To update, run: python.exe -m pip install --upgrade pip\n"
     ]
    }
   ],
   "source": [
    "%run .//shared//load_yaml_config.ipynb"
   ]
  },
  {
   "cell_type": "markdown",
   "metadata": {},
   "source": [
    "### Load Configurations."
   ]
  },
  {
   "cell_type": "code",
   "execution_count": 4,
   "metadata": {},
   "outputs": [
    {
     "name": "stdout",
     "output_type": "stream",
     "text": [
      "dev\n",
      "C:\\Users\\Nikola\\Downloads\\library_data\\customers.csv\n",
      "C:\\Users\\Nikola\\Downloads\\library_data\\libraries.csv\n",
      "C:\\Users\\Nikola\\Downloads\\library_data\\checkouts.csv\n",
      "C:\\Users\\Nikola\\Downloads\\library_data\\books.csv\n",
      "{'header': 'true', 'delimiter': ',', 'inferSchema': 'true', 'ignoreLeadingWhiteSpace': 'true', 'ignoreTrailingWhiteSpace': 'true'}\n",
      "28\n",
      "csv\n"
     ]
    }
   ],
   "source": [
    "env = environment_widget.value\n",
    "print(env)\n",
    "\n",
    "config = load_configs(env)\n",
    "\n",
    "source_dir = config[\"data\"][\"source_dir\"]\n",
    "customer_file = config[\"data\"][\"customers_file\"]\n",
    "libraries_file = config[\"data\"][\"libraries_file\"]\n",
    "checkouts_file = config[\"data\"][\"checkouts_file\"]\n",
    "books_file = config[\"data\"][\"books_file\"]\n",
    "source_data_format = config[\"data\"][\"source_data_format\"]\n",
    "\n",
    "spark_source_data_read_options = config[\"spark_source_data_read_options\"]\n",
    "return_limit_in_days = config[\"data\"][\"return_limit_in_days\"]\n",
    "\n",
    "customers_path = os.path.join(source_dir, customer_file)\n",
    "libraries_path = os.path.join(source_dir, libraries_file)\n",
    "checkouts_path = os.path.join(source_dir, checkouts_file)\n",
    "books_path = os.path.join(source_dir, books_file)\n",
    "\n",
    "print(customers_path)\n",
    "print(libraries_path)\n",
    "print(checkouts_path)\n",
    "print(books_path)\n",
    "print(spark_source_data_read_options)\n",
    "print(return_limit_in_days)\n",
    "print(source_data_format)"
   ]
  },
  {
   "cell_type": "markdown",
   "metadata": {},
   "source": [
    "### Build spark session."
   ]
  },
  {
   "cell_type": "code",
   "execution_count": 5,
   "metadata": {},
   "outputs": [],
   "source": [
    "spark = SparkSession.builder.appName(\n",
    "    \"library_book_late_analysis\").master(\"local\").getOrCreate()"
   ]
  },
  {
   "cell_type": "markdown",
   "metadata": {},
   "source": [
    "### Load Raw Source Data."
   ]
  },
  {
   "cell_type": "code",
   "execution_count": 6,
   "metadata": {},
   "outputs": [],
   "source": [
    "customers_raw_df = spark.read.format(source_data_format).options(\n",
    "    **spark_source_data_read_options).load(customers_path)\n",
    "if customers_raw_df.isEmpty():\n",
    "    raise SystemExit(\"Customers collection is empty!\")\n",
    "\n",
    "\n",
    "books_raw_df = spark.read.format(source_data_format).options(\n",
    "    **spark_source_data_read_options).load(books_path)\n",
    "if books_raw_df.isEmpty():\n",
    "    raise SystemExit(\"Books collection is empty!\")\n",
    "\n",
    "\n",
    "checkouts_raw_df = spark.read.format(source_data_format).options(\n",
    "    **spark_source_data_read_options).load(checkouts_path)\n",
    "if checkouts_raw_df.isEmpty():\n",
    "    raise SystemExit(\"Checkouts collection is empty!\")\n",
    "\n",
    "\n",
    "libraries_raw_df = spark.read.format(source_data_format).options(\n",
    "    **spark_source_data_read_options).load(libraries_path)\n",
    "if libraries_raw_df.isEmpty():\n",
    "    raise SystemExit(\"Libraries collection is empty!\")"
   ]
  },
  {
   "cell_type": "markdown",
   "metadata": {},
   "source": [
    "### Function definitions."
   ]
  },
  {
   "cell_type": "code",
   "execution_count": 7,
   "metadata": {},
   "outputs": [],
   "source": [
    "\"\"\"\n",
    "Input arguments:\n",
    "    1. total_amount (int) - Represents the total value, equivalent to 100%.\n",
    "    2. part_amount (int) - The value for which the percentage will be calculated relative to total_amount.\n",
    "\n",
    "Output:\n",
    "    1. (int) - Returns percentage calculated from part_amount and total_amount.\n",
    "\n",
    "Description:\n",
    "    This function calculates percentage of part_amount relative to total_amount and\n",
    "    rounds the result to the specified number of decimal places.\n",
    "\"\"\"\n",
    "\n",
    "\n",
    "def calculate_percentage(total_amount: int, part_amount: int):\n",
    "    decimals = 3\n",
    "\n",
    "    try:\n",
    "        return round((part_amount / total_amount) * 100, decimals)\n",
    "    except ZeroDivisionError:\n",
    "        print(\"Total amount can't be zero!\")"
   ]
  },
  {
   "cell_type": "code",
   "execution_count": 8,
   "metadata": {},
   "outputs": [],
   "source": [
    "\"\"\"\n",
    "Input arguments:\n",
    "    1. df (DataFrame) - The dataframe on which operation is performed.\n",
    "\n",
    "Output:\n",
    "    1. df (DataFrame) - Returns the modified dataframe.\n",
    "\n",
    "Description:\n",
    "    This function removes all leading and trailing whitespace from a string\n",
    "    and replaces multiple consecutive spaces between words with a single space.\n",
    "\"\"\"\n",
    "\n",
    "\n",
    "def trim_white_spaces_from_df(df):\n",
    "    for field in df.dtypes:\n",
    "        column_name = field[0]\n",
    "        column_type = field[1]\n",
    "\n",
    "        if column_type != \"string\":\n",
    "            continue\n",
    "\n",
    "        df = df.withColumn(\n",
    "            column_name, regexp_replace(column_name, \"\\s+\", \" \")\n",
    "        )\n",
    "    return df"
   ]
  },
  {
   "cell_type": "code",
   "execution_count": 9,
   "metadata": {},
   "outputs": [],
   "source": [
    "\"\"\"\n",
    "Input arguments:\n",
    "    1. df (DataFrame) - The dataframe on which the operation is performed.\n",
    "    2. perfix (str) - A string that will be prefixed to the beginning of \n",
    "    every column name, except for the id column.\n",
    "\n",
    "Output:\n",
    "    1. df (DataFrame) - Returns modified dataframe.\n",
    "\n",
    "Description:\n",
    "    This function is employed to rename columns prior to merging data from the \n",
    "    Libraries, Checkouts and Customers tables. This step is necessary to facilitate\n",
    "    data manipulation, as Libraries and Customers share identical column names in\n",
    "    some instances. The only exception to this renaming process is the id column, as\n",
    "    the Checkouts table already include a prefix for its foreign key (i.e., library_id)\n",
    "\"\"\"\n",
    "\n",
    "\n",
    "def append_prefix_to_column_name(df, prefix: str):\n",
    "    for column_name in df.columns:\n",
    "        if column_name == \"id\":\n",
    "            continue\n",
    "\n",
    "        new_column_name = f\"{prefix}_{column_name}\"\n",
    "        df = df.withColumnRenamed(column_name, new_column_name)\n",
    "\n",
    "    return df"
   ]
  },
  {
   "cell_type": "markdown",
   "metadata": {},
   "source": [
    "### Checkouts collection data cleaning."
   ]
  },
  {
   "cell_type": "code",
   "execution_count": 10,
   "metadata": {},
   "outputs": [
    {
     "name": "stdout",
     "output_type": "stream",
     "text": [
      "2000\n",
      "+------------+--------------------+-------------------+-------------+-------------+\n",
      "|          id|           patron_id|         library_id|date_checkout|date_returned|\n",
      "+------------+--------------------+-------------------+-------------+-------------+\n",
      "|-xFj0vTLbRIC|b071c9c68228a2b1d...|225-222@5xc-jtz-hkf|   2019-01-28|   2018-11-13|\n",
      "|HUX-y4oXl04C|8d3f63e1deed89d7b...|223-222@5xc-jxr-tgk|   2018-05-29|   2018-06-12|\n",
      "|TQpFnkku2poC|4ae202f8de7625917...|228-222@5xc-jtz-hwk|   2018-11-23|   2019-01-24|\n",
      "|OQ6sDwAAQBAJ|f9372de3c8ea50160...|23v-222@5xc-jv7-v4v|   2018-01-15|   2018-04-25|\n",
      "|7T9-BAAAQBAJ|2cf3cc3b9e9f6c608...|225-222@5xc-jtz-hkf|   2018-12-31|   1804-01-23|\n",
      "|iGoXAQAAMAAJ|80f93362e97d9f610...|22c-222@5xc-jwj-pvz|   2018-04-07|   1815-08-11|\n",
      "|CW-7tHAaVR0C|dd9f34e9d65126a2b...|22c-222@5xc-jwj-pvz|   2018-01-10|   2018-02-04|\n",
      "|Cr74DwAAQBAJ|69a2fbbf7aaad8ac0...|23v-222@5xc-jv7-v4v|   2106-02-26|   2018-12-10|\n",
      "|t1e3BWziAc8C|3b85b2c7b424618f5...|222-222@5xc-jv5-nt9|   2018-06-23|   2018-07-14|\n",
      "|2mtCAAAAYAAJ|365ab35282c5d61b3...|228-222@5xc-jtz-hwk|   2018-08-07|   2018-08-25|\n",
      "|BTCUDwAAQBAJ|24e7301ed042acfdd...|227-222@5xc-jww-btv|   2018-10-05|   2018-10-31|\n",
      "|MOewp6bCFfgC|7fd53f66a6d4cd128...|223-222@5xc-jxr-tgk|   2018-04-30|   2018-08-30|\n",
      "|H31XAAAAMAAJ|29dbdfe6a3b7df19b...|23v-222@5xc-jv7-v4v|   2018-04-09|   2018-04-19|\n",
      "|p2C0y3hbe5EC|96aa3f310b38bbe8e...|zzw-222@5xc-knn-c5z|   2018-01-01|   2018-03-05|\n",
      "|krW85fjSjR8C|36255d04094d17b41...|224-222@5xc-jw2-t9z|   2018-06-18|   2018-06-23|\n",
      "|VL0QGySiaDMC|abd2d3be496cc37bd...|zzw-222@5xc-knn-c5z|   2018-04-25|   2018-05-03|\n",
      "|9q1LAQAAIAAJ|f8a72c6a5966f9615...|226-222@5xc-kc4-fpv|   2018-02-19|   2018-02-27|\n",
      "|2uuX1zhTFakC|4d83f0f2d9a86128c...|222-222@5xc-jv5-nt9|   2018-08-12|   2018-08-28|\n",
      "|ZjZOAAAAMAAJ|1342d5bb4ef4cd800...|23v-222@5xc-jv7-v4v|   2018-02-28|   2018-03-10|\n",
      "|BdxRAQAAMAAJ|ca6449c11078de33a...|zzw-223@5xc-jv7-ct9|   2018-01-04|   2018-01-26|\n",
      "+------------+--------------------+-------------------+-------------+-------------+\n",
      "only showing top 20 rows\n",
      "\n"
     ]
    }
   ],
   "source": [
    "checkouts_df = trim_white_spaces_from_df(checkouts_raw_df)\n",
    "\n",
    "# Cast string columns to date data types\n",
    "checkouts_df = checkouts_df.withColumn(\n",
    "    \"date_checkout\", to_date(\"date_checkout\", \"yyyy-MM-dd\")\n",
    ").withColumn(\"date_returned\", to_date(\"date_returned\", \"yyyy-MM-dd\"))\n",
    "\n",
    "print(checkouts_df.count())\n",
    "checkouts_df.show()"
   ]
  },
  {
   "cell_type": "markdown",
   "metadata": {},
   "source": [
    "### Books collection data cleaning."
   ]
  },
  {
   "cell_type": "code",
   "execution_count": 11,
   "metadata": {},
   "outputs": [
    {
     "name": "stdout",
     "output_type": "stream",
     "text": [
      "329\n",
      "+------------+--------------------+--------------------+--------------------+-------------------+--------------------+------+-----+\n",
      "|          id|               title|             authors|           publisher|     published_date|          categories| price|pages|\n",
      "+------------+--------------------+--------------------+--------------------+-------------------+--------------------+------+-----+\n",
      "|hVFwAAAAQBAJ|Ogilvy on Adverti...|        David Ogilvy|             Vintage|2013-09-11 00:00:00|      Social Science| 72.99|  320|\n",
      "|bRY9AAAAYAAJ|Foreign Publicati...|United States. Bu...|                null|1913-01-01 00:00:00|         Advertising|469.99|  654|\n",
      "|ZapAAAAAIAAJ|Advertising and t...|      John A. Howard|                null|1973-01-01 00:00:00|         Advertising|372.00|  784|\n",
      "|ZapAAAAAIAAJ|Advertising and t...|       James Hulbert|                null|1973-01-01 00:00:00|         Advertising|372.00|  784|\n",
      "|A-HthMfF5moC|Profitable Advert...|                null|                null|1894-01-01 00:00:00|         Advertising|240.99|  559|\n",
      "|4Z9JAAAAMAAJ|Report of the Fed...|United States. Fe...|                null|1944-01-01 00:00:00|Government public...|539.00|  757|\n",
      "|K5SYITH0vRIC|Advertising of Al...|United States. Co...|                null|1956-01-01 00:00:00|                null|484.50|  682|\n",
      "|TH8SSrWcVQ4C|Advertising Your ...|                null|                null|1984-01-01 00:00:00|         Advertising|400.99|  635|\n",
      "|ZjZOAAAAMAAJ|Library of Advert...| Axel Petrus Johnson|                null|1911-01-01 00:00:00|         Advertising| 35.99|  428|\n",
      "|uFy7zQEACAAJ|         Advertising|      Roderick White|                null|1980-01-01 00:00:00|         Advertising|438.50|  569|\n",
      "|mR9eAgAAQBAJ|Negative Politica...|Karen S. Johnson-...|           Routledge|2013-12-16 00:00:00|                null|311.99|  640|\n",
      "|mR9eAgAAQBAJ|Negative Politica...|       Gary Copeland|           Routledge|2013-12-16 00:00:00|                null|311.99|  640|\n",
      "|hCVACwAAQBAJ|The Psychology of...|       Bob M. Fennis|    Psychology Press|2015-12-22 00:00:00|          Psychology|205.00|  526|\n",
      "|hCVACwAAQBAJ|The Psychology of...|    Wolfgang Stroebe|    Psychology Press|2015-12-22 00:00:00|          Psychology|205.00|  526|\n",
      "|1Gc_SPKCZY8C|Control of Advert...|United States. Co...|                null|1957-01-01 00:00:00|                null|400.99|  669|\n",
      "|P1AoDwAAQBAJ|Reality In Advert...|       Rosser Reeves|            Lulu.com|2017-06-09 00:00:00|                null|384.00|  506|\n",
      "|DT2UBgAAQBAJ|    The Devil's Grin|   Annelie Wendeberg|   Annelie Wendeberg|2015-02-09 00:00:00|             Fiction|  null|  730|\n",
      "|rcRfT5Doh1kC|         Advertising|              Murthy|   Excel Books India|2009-01-01 00:00:00|         Advertising|376.99|  707|\n",
      "|eLgobuBJQXYC|Advertising Manag...|      Manendra Mohan|Tata McGraw-Hill ...|1989-01-01 00:00:00|         Advertising|375.50|  583|\n",
      "|trqPlpLpjyAC|Advertising Manag...|               Batra|Pearson Education...|2009-01-01 00:00:00|         Advertising|479.99|  514|\n",
      "+------------+--------------------+--------------------+--------------------+-------------------+--------------------+------+-----+\n",
      "only showing top 20 rows\n",
      "\n"
     ]
    }
   ],
   "source": [
    "books_df = trim_white_spaces_from_df(books_raw_df)\n",
    "\n",
    "# Retain only numeric characters and dots in the price column\n",
    "# Retain only numeric characters in the pages column\n",
    "books_df = (\n",
    "    books_df.withColumn(\"price\", regexp_replace(\"price\", \"[^\\d\\.]\", \"\"))\n",
    "    .withColumn(\"pages\", regexp_replace(\"pages\", \"[^\\d]\", \"\"))\n",
    ")\n",
    "\n",
    "books_df = books_df.withColumn(\n",
    "    \"categories\",\n",
    "    when(\n",
    "        col(\"categories\").contains(\"&\"), regexp_replace(\n",
    "            \"categories\", \"&\", \"','\")\n",
    "    ).otherwise(col(\"categories\")),\n",
    ")\n",
    "\n",
    "books_df = books_df.withColumn(\n",
    "    \"categories\",\n",
    "    when(\n",
    "        col(\"categories\").contains(\",\"), regexp_replace(\n",
    "            \"categories\", \",\", \"','\")\n",
    "    ).otherwise(col(\"categories\")),\n",
    ")\n",
    "\n",
    "# Convert columns to their appropriate data types\n",
    "# Explode the data on the authors and categories fields\n",
    "# Renamae the column to follow snake_case conventions\n",
    "books_df = (\n",
    "    books_df.withColumn(\"authors\", from_json(\n",
    "        \"authors\", ArrayType(StringType())))\n",
    "    .withColumn(\"categories\", from_json(\"categories\", ArrayType(StringType())))\n",
    "    .withColumn(\"pages\", col(\"pages\").cast(LongType()))\n",
    "    .withColumn(\"price\", col(\"price\").cast(DecimalType(precision=10, scale=2)))\n",
    "    .withColumn(\"authors\", explode_outer(col(\"authors\")))\n",
    "    .withColumn(\"categories\", explode_outer(col(\"categories\")))\n",
    "    .withColumnRenamed(\"publishedDate\", \"published_date\")\n",
    ")\n",
    "\n",
    "books_df = trim_white_spaces_from_df(books_df)\n",
    "\n",
    "print(books_df.count())\n",
    "books_df.show()"
   ]
  },
  {
   "cell_type": "markdown",
   "metadata": {},
   "source": [
    "### Customers collection data cleaning."
   ]
  },
  {
   "cell_type": "code",
   "execution_count": 12,
   "metadata": {},
   "outputs": [
    {
     "name": "stdout",
     "output_type": "stream",
     "text": [
      "2000\n",
      "+--------------------+------------------+--------------------+------------+----------+-------+-------------------+------+---------------+------------------+\n",
      "|                  id|              name|      street_address|        city|     state|zipcode|         birth_date|gender|      education|        occupation|\n",
      "+--------------------+------------------+--------------------+------------+----------+-------+-------------------+------+---------------+------------------+\n",
      "|df83ec2d0d409395c...| Cynthia Barnfield|     44 NE Meikle Pl|    Portland|    Oregon|  97213|2009-09-10 00:00:00|female|    High School|              null|\n",
      "|6aec7ab2ea0d67161...|   Elizabeth Smith| 7511 SE Harrison St|    Portland|    Oregon|  97215|1956-12-15 00:00:00|female|        College|       Blue Collar|\n",
      "|0c54340672f510fdb...|     Richard Pabla|     1404 SE Pine St|    Portland|    Oregon|  97214|1960-12-18 00:00:00|  male|        College|Education & Health|\n",
      "|f0d9ce833ddc1f73c...|     Charles Baker|12271 N Westshore Dr|    Portland|    Oregon|  97217|2105-07-19 00:00:00|  male|Graduate Degree|             Sales|\n",
      "|3720379163f6b4694...|      Ronald Lydon| 5321 NE Skyport Way|        null|    Oregon|  97218|1961-03-14 00:00:00|  male|Graduate Degree|       Blue Collar|\n",
      "|8380f7f05a183e9b1...|     Katherine Bax|    4106 NE 69th Ave|    Portland|    Oregon|  97218|1990-10-06 00:00:00|female|Graduate Degree|              Tech|\n",
      "|5b54076ff51088b8c...|Christine Hermreck|    1856 NE 84th Ave|    Portland|    Oregon|  97220|2009-05-27 00:00:00|female|        College|Education & Health|\n",
      "|0b585fb06695db334...|    Jeffrey Snyder|  11440 SE Aquila St|Happy Valley|    Oregon|  97086|1956-10-17 00:00:00|  male|    High School|             Sales|\n",
      "|bfc7e857c666777a3...|      Marco Royals|  1731 NW Everett St|    Portland|    Oregon|  97209|1980-09-13 00:00:00|  male|Graduate Degree|Education & Health|\n",
      "|7fd53f66a6d4cd128...|      Travis Hardy|    636 SE 154th Ave|    Portland|    Oregon|  97233|1803-04-20 00:00:00|  male|        College|             Sales|\n",
      "|a407f60337af8e554...|     Peter Watkins|1847 SW Englewood Dr| Lake Oswego|    Oregon|  97034|2102-12-05 00:00:00|  male|Graduate Degree|       Blue Collar|\n",
      "|d6f5b9cccb7bc5871...|      Jacob Pardee|   10257 NE 20th Cir|   Vancouver|Washington|  98664|2008-01-31 00:00:00|  male|         Others|            Others|\n",
      "|1499d9170b881d4ae...|    Vasiliki Smith|   9559 SW 171st Ave|   Beaverton|      null|  97007|1977-03-04 00:00:00|female|         Others|              Tech|\n",
      "|93a81699555ae3666...|      William Fell| 6922 SE Brooklyn St|    Portland|    Oregon|  97206|1971-06-10 00:00:00|  male|Graduate Degree|       Blue Collar|\n",
      "|6ae9e75a19de4c5f7...|    Jonathan Bonds|   13999 NW Hogan St|    Portland|    Oregon|  97229|1951-07-29 00:00:00|  male|        College|Business & Finance|\n",
      "|59f403406fe6523ab...|      John Milkins|   16907 SW 72nd Ave|    Portland|    Oregon|  97224|2108-11-02 00:00:00|  male|    High School|            Others|\n",
      "|bb6f56906058b6d66...|       Eva Sommers|  1950 NW Raleigh St|    Portland|    Oregon|  97209|1807-05-24 00:00:00|female|        College|Business & Finance|\n",
      "|93f33699e2e5af1df...|       Dena Taylor|   1564 NE 137th Ave|    Portland|    Oregon|  97230|1997-06-13 00:00:00|female|         Others|              Tech|\n",
      "|376119222670aee3b...|    Ronald Cedillo| 3458 NE Peerless Pl|    Portland|    Oregon|  97232|1986-05-20 00:00:00|  null|    High School|Education & Health|\n",
      "|f870d2740d4c7ed91...|      Soledad Wade|8256 NW Leif Eric...|    Portland|    Oregon|  97210|1974-03-24 00:00:00|female|Graduate Degree|             Sales|\n",
      "+--------------------+------------------+--------------------+------------+----------+-------+-------------------+------+---------------+------------------+\n",
      "only showing top 20 rows\n",
      "\n"
     ]
    }
   ],
   "source": [
    "customers_df = trim_white_spaces_from_df(customers_raw_df)\n",
    "\n",
    "# Retain only numeric characters and dots in the zipcode to extract the number without decimals\n",
    "# Convert the data types of the columns and apply the initicap function to capitalize the first letter of each word\n",
    "customers_df = (\n",
    "    customers_df.withColumn(\n",
    "        \"zipcode\", regexp_replace(\"zipcode\", \"[^\\d\\.]\", \"\"))\n",
    "    .withColumn(\"zipcode\", col(\"zipcode\").cast(LongType()))\n",
    "    .withColumn(\"city\", initcap(\"city\"))\n",
    "    .withColumn(\"name\", initcap(\"name\"))\n",
    "    .withColumn(\"education\", initcap(\"education\"))\n",
    "    .withColumn(\"state\", initcap(\"state\"))\n",
    "    .withColumn(\"gender\", lower(col(\"gender\")))\n",
    "    .withColumn(\"occupation\", initcap(\"occupation\"))\n",
    ")\n",
    "\n",
    "print(customers_df.count())\n",
    "customers_df.show()"
   ]
  },
  {
   "cell_type": "markdown",
   "metadata": {},
   "source": [
    "### Libraries collection data cleaning."
   ]
  },
  {
   "cell_type": "code",
   "execution_count": 13,
   "metadata": {},
   "outputs": [
    {
     "name": "stdout",
     "output_type": "stream",
     "text": [
      "18\n",
      "+-------------------+--------------------+--------------------+--------+------+-----------+\n",
      "|                 id|                name|      street_address|    city|region|postal_code|\n",
      "+-------------------+--------------------+--------------------+--------+------+-----------+\n",
      "|226-222@5xc-kc4-fpv|Multnomah County ...|10723 SW capitol Hwy|Portland|    or|      97219|\n",
      "|23v-222@5xc-jv7-v4v|Multnomah County ...|  2300 NW Thurman St|    null|    or|       null|\n",
      "|222-222@5xc-jvf-skf|Multnomah County ...|7510 N Charleston...|Portland|    or|      97203|\n",
      "|227-222@5xc-jww-btv|Multnomah County ...| 1525 SW Sunset blvd|Portland|    or|      97239|\n",
      "|22d-222@5xc-kcy-8sq|Multnomah County ...|    7860 SE 13th AVE|Portland|    or|      97202|\n",
      "|223-222@5xc-jxr-tgk|MULTNOMAH County ...|    6008 se 49TH AVE|Portland|    or|      97206|\n",
      "|zzw-224@5xc-jwv-2rk|Multnomah County ...|     801 SW 10th Ave|Portland|  null|      97205|\n",
      "|zzw-223@5xc-jv7-ct9|Friends OF the mu...|      522 SW 5th Ave|    null|    or|      97204|\n",
      "|226-222@5xc-jxj-7yv|Multnomah County ...|1038 SE CESAR E C...|Portland|    or|      97214|\n",
      "|zzw-222@5xc-knn-c5z|Multnomah County ...|7905 SE Holgate Blvd|Portland|    or|       null|\n",
      "|222-222@5xc-kkw-bzf|MULTNOMAH County ...|    805 SE 122nd Ave|Portland|    or|      97233|\n",
      "|228-222@5xc-jtz-hwk|Multnomah County ...|   205 NE Russell St|    null|  null|      97212|\n",
      "|225-222@5xc-jtz-hkf|MULTNOMAH County ...|     216 ne Knott st|    null|    or|       null|\n",
      "|222-222@5xc-jv5-nt9|Multnomah County ...|512 N Killingswor...|Portland|    or|      97217|\n",
      "|zzw-222@5xc-jv4-789|Multnomah County ...|    3605 NE 15th Ave|Portland|    or|      97212|\n",
      "|222-222@5xc-jxp-rp9|Multnomah County ...|4040 NE Tillamook St|Portland|    or|      97212|\n",
      "|22c-222@5xc-jwj-pvz|MULTNOMAH County ...|   8226 N DENVER Ave|Portland|    or|      97217|\n",
      "|224-222@5xc-jw2-t9z|Multnomah COUNTY ...|  7921 NE sandy BLVD|Portland|    or|      97213|\n",
      "+-------------------+--------------------+--------------------+--------+------+-----------+\n",
      "\n"
     ]
    }
   ],
   "source": [
    "libraries_df = trim_white_spaces_from_df(libraries_raw_df)\n",
    "\n",
    "# Retain only numeric characters and dots in the postal_code to extract the number without decimals\n",
    "# Convert the data types of the columns and apply the initicap function to capitalize the first letter of each word\n",
    "libraries_df = (\n",
    "    libraries_df.withColumn(\"region\", lower(col(\"region\")))\n",
    "    .withColumn(\"postal_code\", regexp_replace(\"postal_code\", \"[^\\d\\.]\", \"\"))\n",
    "    .withColumn(\"postal_code\", col(\"postal_code\").cast(LongType()))\n",
    "    .withColumn(\"city\", initcap(\"city\"))\n",
    ")\n",
    "\n",
    "print(libraries_df.count())\n",
    "libraries_df.show()"
   ]
  },
  {
   "cell_type": "markdown",
   "metadata": {},
   "source": [
    "### Merge data into single dataframe."
   ]
  },
  {
   "cell_type": "code",
   "execution_count": 14,
   "metadata": {},
   "outputs": [
    {
     "name": "stdout",
     "output_type": "stream",
     "text": [
      "+------------+--------------------+-------------------+-------------+-------------+--------------------+----------------------+------------+--------------+-------------------+-----------------+-----------------------+-------------+--------------+----------------+-------------------+---------------+------------------+-------------------+---------+\n",
      "| checkout_id|           patron_id|         library_id|date_checkout|date_returned|        library_name|library_street_address|library_city|library_region|library_postal_code|    customer_name|customer_street_address|customer_city|customer_state|customer_zipcode|customer_birth_date|customer_gender|customer_education|customer_occupation|days_kept|\n",
      "+------------+--------------------+-------------------+-------------+-------------+--------------------+----------------------+------------+--------------+-------------------+-----------------+-----------------------+-------------+--------------+----------------+-------------------+---------------+------------------+-------------------+---------+\n",
      "|-xFj0vTLbRIC|b071c9c68228a2b1d...|225-222@5xc-jtz-hkf|   2019-01-28|   2018-11-13|MULTNOMAH County ...|       216 ne Knott st|        null|            or|               null|  Rachelle Miller|          73 NE Cook St|     Portland|        Oregon|           97212|               null|         female|              null|               Tech|      -76|\n",
      "|HUX-y4oXl04C|8d3f63e1deed89d7b...|223-222@5xc-jxr-tgk|   2018-05-29|   2018-06-12|MULTNOMAH County ...|      6008 se 49TH AVE|    Portland|            or|              97206|   Jeanette Nelms|       4942 SE 28th Ave|     Portland|        Oregon|           97202|1965-01-24 00:00:00|         female|   Graduate Degree|               Tech|       14|\n",
      "|TQpFnkku2poC|4ae202f8de7625917...|228-222@5xc-jtz-hwk|   2018-11-23|   2019-01-24|Multnomah County ...|     205 NE Russell St|        null|          null|              97212|   Melvin Jackson|   2821 NE Klickitat St|     Portland|        Oregon|           97212|1963-11-04 00:00:00|           male|   Graduate Degree| Education & Health|       62|\n",
      "|OQ6sDwAAQBAJ|f9372de3c8ea50160...|23v-222@5xc-jv7-v4v|   2018-01-15|   2018-04-25|Multnomah County ...|    2300 NW Thurman St|        null|            or|               null|      James Klein|       1720 N Shaver St|     Portland|        Oregon|           97227|2119-02-10 00:00:00|           male|   Graduate Degree|              Sales|      100|\n",
      "|7T9-BAAAQBAJ|2cf3cc3b9e9f6c608...|225-222@5xc-jtz-hkf|   2018-12-31|   1804-01-23|MULTNOMAH County ...|       216 ne Knott st|        null|            or|               null|     Lani Alvarez|     7845 NE Alberta St|     Portland|        Oregon|           97218|2103-05-19 00:00:00|         female|            Others| Business & Finance|   -78505|\n",
      "|iGoXAQAAMAAJ|80f93362e97d9f610...|22c-222@5xc-jwj-pvz|   2018-04-07|   1815-08-11|MULTNOMAH County ...|     8226 N DENVER Ave|    Portland|            or|              97217|    Annie Johnson|       8173 N Marine Dr|     Portland|        Oregon|           97203|1984-10-16 00:00:00|         female|              null|              Sales|   -74019|\n",
      "|CW-7tHAaVR0C|dd9f34e9d65126a2b...|22c-222@5xc-jwj-pvz|   2018-01-10|   2018-02-04|MULTNOMAH County ...|     8226 N DENVER Ave|    Portland|            or|              97217|    Gary Sullivan|      6614 N Wilbur Ave|     Portland|        Oregon|           97217|1984-07-27 00:00:00|           male|   Graduate Degree| Education & Health|       25|\n",
      "|Cr74DwAAQBAJ|69a2fbbf7aaad8ac0...|23v-222@5xc-jv7-v4v|   2106-02-26|   2018-12-10|Multnomah County ...|    2300 NW Thurman St|        null|            or|               null|      Larry Green|      4759 SW Slavin Rd|     Portland|        Oregon|           97239|1964-08-04 00:00:00|           male|           College|               Tech|   -31854|\n",
      "|t1e3BWziAc8C|3b85b2c7b424618f5...|222-222@5xc-jv5-nt9|   2018-06-23|   2018-07-14|Multnomah County ...|  512 N Killingswor...|    Portland|            or|              97217|    Thomas Wilson|       2617 NE 33rd Ave|     Portland|        Oregon|           97212|1976-09-24 00:00:00|           male|       High School| Business & Finance|       21|\n",
      "|2mtCAAAAYAAJ|365ab35282c5d61b3...|228-222@5xc-jtz-hwk|   2018-08-07|   2018-08-25|Multnomah County ...|     205 NE Russell St|        null|          null|              97212|     Ethel Saylor|   5425 SE Lafayette St|     Portland|        Oregon|           97206|1967-09-03 00:00:00|         female|           College|               Tech|       18|\n",
      "|BTCUDwAAQBAJ|24e7301ed042acfdd...|227-222@5xc-jww-btv|   2018-10-05|   2018-10-31|Multnomah County ...|   1525 SW Sunset blvd|    Portland|            or|              97239|    Jane Schiller|        4960 SW 31st Dr|         null|        Oregon|           97239|1958-03-07 00:00:00|         female|           College|               null|       26|\n",
      "|MOewp6bCFfgC|7fd53f66a6d4cd128...|223-222@5xc-jxr-tgk|   2018-04-30|   2018-08-30|MULTNOMAH County ...|      6008 se 49TH AVE|    Portland|            or|              97206|     Travis Hardy|       636 SE 154th Ave|     Portland|        Oregon|           97233|1803-04-20 00:00:00|           male|           College|              Sales|      122|\n",
      "|H31XAAAAMAAJ|29dbdfe6a3b7df19b...|23v-222@5xc-jv7-v4v|   2018-04-09|   2018-04-19|Multnomah County ...|    2300 NW Thurman St|        null|            or|               null|   Shirley Carson|   3103 SW Fairview ...|     Portland|        Oregon|           97205|1975-07-29 00:00:00|         female|            Others| Business & Finance|       10|\n",
      "|p2C0y3hbe5EC|96aa3f310b38bbe8e...|zzw-222@5xc-knn-c5z|   2018-01-01|   2018-03-05|Multnomah County ...|  7905 SE Holgate Blvd|    Portland|            or|               null| Barbara Atherton|    8228 SE Division St|     Portland|        Oregon|           97266|1962-02-16 00:00:00|         female|   Graduate Degree| Education & Health|       63|\n",
      "|krW85fjSjR8C|36255d04094d17b41...|224-222@5xc-jw2-t9z|   2018-06-18|   2018-06-23|Multnomah COUNTY ...|    7921 NE sandy BLVD|    Portland|            or|              97213|       Kelly Meza|       5631 SE 28TH AVE|     Portland|        Oregon|           97202|1966-01-24 00:00:00|         female|            Others|               Tech|        5|\n",
      "|VL0QGySiaDMC|abd2d3be496cc37bd...|zzw-222@5xc-knn-c5z|   2018-04-25|   2018-05-03|Multnomah County ...|  7905 SE Holgate Blvd|    Portland|            or|               null|Emmett Lineberger|       2610 SE 92nd Ave|     Portland|        Oregon|           97266|1950-07-23 00:00:00|           male|       High School|              Sales|        8|\n",
      "|9q1LAQAAIAAJ|f8a72c6a5966f9615...|226-222@5xc-kc4-fpv|   2018-02-19|   2018-02-27|Multnomah County ...|  10723 SW capitol Hwy|    Portland|            or|              97219| Thomas Mcdonnell|   14230 SW Alpine C...|     Portland|        Oregon|           97224|1987-06-11 00:00:00|           male|   Graduate Degree|        Blue Collar|        8|\n",
      "|2uuX1zhTFakC|4d83f0f2d9a86128c...|222-222@5xc-jv5-nt9|   2018-08-12|   2018-08-28|Multnomah County ...|  512 N Killingswor...|    Portland|            or|              97217|Geraldine Behrens|     3624 N Leverman St|     Portland|          null|           97217|1980-05-29 00:00:00|         female|       High School|             Others|       16|\n",
      "|ZjZOAAAAMAAJ|1342d5bb4ef4cd800...|23v-222@5xc-jv7-v4v|   2018-02-28|   2018-03-10|Multnomah County ...|    2300 NW Thurman St|        null|            or|               null|   Royal Villegas|       1920 NW 18th Ave|         null|        Oregon|           97209|2002-01-25 00:00:00|           male|            Others|        Blue Collar|       10|\n",
      "|BdxRAQAAMAAJ|ca6449c11078de33a...|zzw-223@5xc-jv7-ct9|   2018-01-04|   2018-01-26|Friends OF the mu...|        522 SW 5th Ave|        null|            or|              97204|   David Mckinney|      4523 N Haight Ave|     Portland|        Oregon|           97217|1971-06-07 00:00:00|           male|   Graduate Degree|    Admin & Support|       22|\n",
      "+------------+--------------------+-------------------+-------------+-------------+--------------------+----------------------+------------+--------------+-------------------+-----------------+-----------------------+-------------+--------------+----------------+-------------------+---------------+------------------+-------------------+---------+\n",
      "only showing top 20 rows\n",
      "\n"
     ]
    }
   ],
   "source": [
    "checkouts_df = checkouts_df.withColumnRenamed(\"id\", \"checkout_id\")\n",
    "libraries_df = append_prefix_to_column_name(df=libraries_df, prefix=\"library\")\n",
    "\n",
    "library_checkouts = checkouts_df.join(\n",
    "    libraries_df, on=checkouts_df.library_id == libraries_df.id, how=\"inner\"\n",
    ").drop(\"id\")\n",
    "\n",
    "customers_df = append_prefix_to_column_name(df=customers_df, prefix=\"customer\")\n",
    "\n",
    "final_df = library_checkouts.join(\n",
    "    customers_df, on=library_checkouts.patron_id == customers_df.id, how=\"inner\").drop(\"id\")\n",
    "final_df = final_df.withColumn(\"days_kept\", datediff(\n",
    "    col(\"date_returned\"), col(\"date_checkout\")))\n",
    "\n",
    "final_df.show()"
   ]
  },
  {
   "cell_type": "markdown",
   "metadata": {},
   "source": [
    "### Filter data where books were returned late."
   ]
  },
  {
   "cell_type": "code",
   "execution_count": 15,
   "metadata": {},
   "outputs": [
    {
     "name": "stdout",
     "output_type": "stream",
     "text": [
      "201\n",
      "+------------+--------------------+-------------------+-------------+-------------+--------------------+----------------------+------------+--------------+-------------------+------------------+-----------------------+-------------+--------------+----------------+-------------------+---------------+------------------+-------------------+---------+\n",
      "| checkout_id|           patron_id|         library_id|date_checkout|date_returned|        library_name|library_street_address|library_city|library_region|library_postal_code|     customer_name|customer_street_address|customer_city|customer_state|customer_zipcode|customer_birth_date|customer_gender|customer_education|customer_occupation|days_kept|\n",
      "+------------+--------------------+-------------------+-------------+-------------+--------------------+----------------------+------------+--------------+-------------------+------------------+-----------------------+-------------+--------------+----------------+-------------------+---------------+------------------+-------------------+---------+\n",
      "|TQpFnkku2poC|4ae202f8de7625917...|228-222@5xc-jtz-hwk|   2018-11-23|   2019-01-24|Multnomah County ...|     205 NE Russell St|        null|          null|              97212|    Melvin Jackson|   2821 NE Klickitat St|     Portland|        Oregon|           97212|1963-11-04 00:00:00|           male|   Graduate Degree| Education & Health|       62|\n",
      "|MOewp6bCFfgC|7fd53f66a6d4cd128...|223-222@5xc-jxr-tgk|   2018-04-30|   2018-08-30|MULTNOMAH County ...|      6008 se 49TH AVE|    Portland|            or|              97206|      Travis Hardy|       636 SE 154th Ave|     Portland|        Oregon|           97233|1803-04-20 00:00:00|           male|           College|              Sales|      122|\n",
      "|p2C0y3hbe5EC|96aa3f310b38bbe8e...|zzw-222@5xc-knn-c5z|   2018-01-01|   2018-03-05|Multnomah County ...|  7905 SE Holgate Blvd|    Portland|            or|               null|  Barbara Atherton|    8228 SE Division St|     Portland|        Oregon|           97266|1962-02-16 00:00:00|         female|   Graduate Degree| Education & Health|       63|\n",
      "|pIIkAQAAMAAJ|fce6305084f5d1bb2...|222-222@5xc-jv5-nt9|   2018-02-06|   2018-06-20|Multnomah County ...|  512 N Killingswor...|    Portland|            or|              97217|      Tina Johnson|      6235 N Cutter Cir|     Portland|        Oregon|           97217|1987-04-09 00:00:00|         female|   Graduate Degree|              Sales|      134|\n",
      "|lMkmAQAAMAAJ|71f86bd14389f1641...|222-222@5xc-jxp-rp9|   2018-11-15|   2113-09-03|Multnomah County ...|  4040 NE Tillamook St|    Portland|            or|              97212|  Jeffery Mccleary|    5441 N Missouri Ave|     Portland|        Oregon|           97217|1961-06-25 00:00:00|           male|   Graduate Degree|        Blue Collar|    34625|\n",
      "|gM80AQAAMAAJ|5badc7b5021e3c11e...|222-222@5xc-jxp-rp9|   2018-07-04|   2018-08-26|Multnomah County ...|  4040 NE Tillamook St|    Portland|            or|              97212|           Lynn Wu|    3328 SW Barbur Blvd|     Portland|        Oregon|           97239|1977-11-11 00:00:00|         female|       High School|    Admin & Support|       53|\n",
      "|moG9m2rGrTUC|708464383124bdf35...|zzw-223@5xc-jv7-ct9|   2018-12-18|   2019-05-12|Friends OF the mu...|        522 SW 5th Ave|        null|            or|              97204|     Beth Ferreira|      10410 SW 41st Ave|     Portland|        Oregon|           97219|1979-11-01 00:00:00|         female|   Graduate Degree|             Others|      145|\n",
      "|sxF-zkQY-NsC|ae8563fdcac2dd39c...|224-222@5xc-jw2-t9z|   2018-08-09|   2105-06-22|Multnomah COUNTY ...|    7921 NE sandy BLVD|    Portland|            or|              97213|      Tom Talarico|   2477 NE Columbia ...|     Portland|        Oregon|           97211|1967-01-15 00:00:00|           male|       High School|    Admin & Support|    31728|\n",
      "|nndUAAAAMAAJ|006ec5b8f21fba3c5...|225-222@5xc-jtz-hkf|   2018-12-08|   2019-03-31|MULTNOMAH County ...|       216 ne Knott st|        null|            or|               null|     James Gerving|      9020 SE Taylor St|     Portland|        Oregon|           97216|1965-03-26 00:00:00|           male|       High School|        Blue Collar|      113|\n",
      "|VL0QGySiaDMC|57125efdd2e7e4273...|zzw-224@5xc-jwv-2rk|   2018-06-07|   2117-10-10|Multnomah County ...|       801 SW 10th Ave|    Portland|          null|              97205|Shirley Stonehouse|      1050 NW Winter Ln|     Portland|        Oregon|           97210|1961-02-15 00:00:00|         female|            Others|              Sales|    36284|\n",
      "|tvo3LZ-Qms0C|ed8a7fde3f13a5f5a...|222-222@5xc-jxp-rp9|   2018-11-01|   2019-02-15|Multnomah County ...|  4040 NE Tillamook St|    Portland|            or|              97212|   Thomas Muhammad|   13625 SW Devonshi...|    Beaverton|          null|           97005|1951-06-30 00:00:00|           male|              null|              Sales|      106|\n",
      "|t1e3BWziAc8C|e1e48da13224827a2...|223-222@5xc-jxr-tgk|   2018-09-25|   2104-03-09|MULTNOMAH County ...|      6008 se 49TH AVE|    Portland|            or|              97206|    Jonathan Borst|    894 NE Hazelfern Pl|     Portland|        Oregon|           97232|1985-12-26 00:00:00|           male|       High School|    Admin & Support|    31211|\n",
      "|tAyspwAACAAJ|f94b09a093db54784...|22d-222@5xc-kcy-8sq|   2018-10-15|   2019-03-13|Multnomah County ...|      7860 SE 13th AVE|    Portland|            or|              97202|    Robert Saldana|   11315 SW Capitol Hwy|     Portland|        Oregon|           97219|1994-11-02 00:00:00|           male|              null|        Blue Collar|      149|\n",
      "|IhgDAAAAYAAJ|c38aca7e5d507c011...|226-222@5xc-jxj-7yv|   2018-01-23|   2112-11-14|Multnomah County ...|  1038 SE CESAR E C...|    Portland|            or|              97214|        Karl Lopez|   4603 NE Martin Lu...|     Portland|        Oregon|           97211|2006-01-14 00:00:00|           male|       High School|             Others|    34628|\n",
      "|a-4qAQAAMAAJ|4e03ecad4300a401f...|23v-222@5xc-jv7-v4v|   2018-01-05|   2018-03-02|Multnomah County ...|    2300 NW Thurman St|        null|            or|               null|      Wiley Turner|   10185 SW Beaverto...|    Beaverton|        Oregon|           97005|1996-02-19 00:00:00|           male|           College|              Sales|       56|\n",
      "|ih402g7bNXYC|db7335a0d6db6fbed...|23v-222@5xc-jv7-v4v|   2018-08-01|   2019-01-27|Multnomah County ...|    2300 NW Thurman St|        null|            or|               null|    Lashonda Carle|         3220 Duncan Dr|  Lake Oswego|        Oregon|           97035|1960-03-18 00:00:00|         female|       High School|               Tech|      179|\n",
      "|bRY9AAAAYAAJ|997c6d7165999aced...|228-222@5xc-jtz-hwk|   2018-04-24|   2018-09-12|Multnomah County ...|     205 NE Russell St|        null|          null|              97212|    Jerry O'connor|    8205 N Congress Ave|     Portland|        Oregon|           97217|1959-03-02 00:00:00|           male|           College|    Admin & Support|      141|\n",
      "|9q1LAQAAIAAJ|1bc255b9da1f2d7a1...|zzw-223@5xc-jv7-ct9|   2018-06-03|   2018-11-03|Friends OF the mu...|        522 SW 5th Ave|        null|            or|              97204|   Virginia Gurley|       8721 NE Beech St|     Portland|        Oregon|           97220|2005-06-11 00:00:00|         female|            Others|             Others|      153|\n",
      "|WXssAAAAYAAJ|077af1a657c88e5ab...|zzw-224@5xc-jwv-2rk|   2018-10-16|   2019-04-08|Multnomah County ...|       801 SW 10th Ave|    Portland|          null|              97205|      Ralph Parker|        4001 SW Iowa St|     Portland|        Oregon|           97221|1989-12-14 00:00:00|           male|           College| Business & Finance|      174|\n",
      "|PjQDAAAAQAAJ|f31c37f308a2c2d5f...|zzw-223@5xc-jv7-ct9|   2018-01-19|   2018-03-14|Friends OF the mu...|        522 SW 5th Ave|        null|            or|              97204|           Ana Lee|       335 SW 141st Ave|    Beaverton|        Oregon|           97006|1980-05-13 00:00:00|         female|            Others|             Others|       54|\n",
      "+------------+--------------------+-------------------+-------------+-------------+--------------------+----------------------+------------+--------------+-------------------+------------------+-----------------------+-------------+--------------+----------------+-------------------+---------------+------------------+-------------------+---------+\n",
      "only showing top 20 rows\n",
      "\n"
     ]
    }
   ],
   "source": [
    "# Considering only records where customers returned books late.\n",
    "# The checkout date must not exceed the return date.\n",
    "# The customer's birth date must not be later then the checkout date.\n",
    "late_returns_df = final_df.filter(\n",
    "    (col(\"days_kept\") >= return_limit_in_days)\n",
    "    & (col(\"date_checkout\") < col(\"date_returned\"))\n",
    "    & (col(\"date_checkout\") > col(\"customer_birth_date\"))\n",
    ")\n",
    "\n",
    "if late_returns_df.isEmpty():\n",
    "    raise SystemExit(\"No data found in unified table!\")\n",
    "\n",
    "print(late_returns_df.count())\n",
    "late_returns_df.show()"
   ]
  },
  {
   "cell_type": "markdown",
   "metadata": {},
   "source": [
    "### Analysis."
   ]
  },
  {
   "cell_type": "code",
   "execution_count": 16,
   "metadata": {},
   "outputs": [
    {
     "name": "stdout",
     "output_type": "stream",
     "text": [
      "+-------+------------+--------------------+-------------------+--------------------+----------------------+------------+--------------+-------------------+-----------------+-----------------------+-------------+--------------+------------------+---------------+------------------+-------------------+------------------+\n",
      "|summary| checkout_id|           patron_id|         library_id|        library_name|library_street_address|library_city|library_region|library_postal_code|    customer_name|customer_street_address|customer_city|customer_state|  customer_zipcode|customer_gender|customer_education|customer_occupation|         days_kept|\n",
      "+-------+------------+--------------------+-------------------+--------------------+----------------------+------------+--------------+-------------------+-----------------+-----------------------+-------------+--------------+------------------+---------------+------------------+-------------------+------------------+\n",
      "|  count|         201|                 201|                201|                 201|                   201|         153|           178|                166|              201|                    201|          190|           188|               201|            193|               186|                196|               201|\n",
      "|   mean|        null|                null|               null|                null|                  null|        null|          null|  97213.35542168675|             null|                   null|         null|          null| 97280.73631840796|           null|              null|               null|13933.268656716418|\n",
      "| stddev|        null|                null|               null|                null|                  null|        null|          null|   9.49642041667265|             null|                   null|         null|          null|372.12855994182786|           null|              null|               null|   17194.492805473|\n",
      "|    min|0mt9NdDSmYYC|006ec5b8f21fba3c5...|222-222@5xc-jv5-nt9|Friends OF the mu...|  1038 SE CESAR E C...|    Portland|            or|              97202|Alaina Applewhite|     10010 SW Hall Blvd|    Beaverton|        Oregon|             97005|         female|           College|    Admin & Support|                29|\n",
      "|    max|z9-lHMQjvD0C|fff949d70363739aa...|zzw-224@5xc-jwv-2rk|Multnomah County ...|     8226 N DENVER Ave|    Portland|            or|              97239| Yvonne Czarnecki|       9960 SE 82nd Ave|    West Linn|    Washington|             98685|           male|            Others|               Tech|             77472|\n",
      "+-------+------------+--------------------+-------------------+--------------------+----------------------+------------+--------------+-------------------+-----------------+-----------------------+-------------+--------------+------------------+---------------+------------------+-------------------+------------------+\n",
      "\n"
     ]
    }
   ],
   "source": [
    "late_returns_df.describe().show()"
   ]
  },
  {
   "cell_type": "code",
   "execution_count": 17,
   "metadata": {},
   "outputs": [
    {
     "name": "stdout",
     "output_type": "stream",
     "text": [
      "190\n",
      "+-------------+------------+-----------------------+\n",
      "|customer_city|late_returns|percentage_late_returns|\n",
      "+-------------+------------+-----------------------+\n",
      "|     Portland|         142|                 74.737|\n",
      "|    Vancouver|          12|                  6.316|\n",
      "|    Beaverton|           9|                  4.737|\n",
      "|  Lake Oswego|           7|                  3.684|\n",
      "| Happy Valley|           6|                  3.158|\n",
      "|  Oregon City|           5|                  2.632|\n",
      "|    West Linn|           5|                  2.632|\n",
      "|     Tualatin|           2|                  1.053|\n",
      "|    Clackamas|           1|                  0.526|\n",
      "|     Damascus|           1|                  0.526|\n",
      "+-------------+------------+-----------------------+\n",
      "\n"
     ]
    }
   ],
   "source": [
    "customer_city_df = late_returns_df.filter((col(\"customer_city\").isNotNull()))\n",
    "total_late_returns_per_customer_city = customer_city_df.count()\n",
    "\n",
    "customer_city_df = (\n",
    "    customer_city_df.groupBy(\"customer_city\")\n",
    "    .count()\n",
    "    .select(\"customer_city\", col(\"count\").alias(\"late_returns\"))\n",
    "    .orderBy(\n",
    "        desc(\"late_returns\"),\n",
    "    )\n",
    ")\n",
    "customer_city_df = customer_city_df.withColumn(\n",
    "    \"percentage_late_returns\",\n",
    "    lit(calculate_percentage(total_late_returns_per_customer_city, col(\"late_returns\"))),\n",
    ")\n",
    "\n",
    "print(total_late_returns_per_customer_city)\n",
    "customer_city_df.show()"
   ]
  },
  {
   "cell_type": "code",
   "execution_count": 18,
   "metadata": {},
   "outputs": [
    {
     "name": "stdout",
     "output_type": "stream",
     "text": [
      "201\n",
      "+----------+------------+------------------+-----------------------+\n",
      "|first_name|late_returns|avgerage_days_kept|percentage_late_returns|\n",
      "+----------+------------+------------------+-----------------------+\n",
      "|   William|           4|             100.3|                   1.99|\n",
      "|     James|           4|             130.8|                   1.99|\n",
      "|      John|           4|           24884.3|                   1.99|\n",
      "|   Richard|           4|            9149.5|                   1.99|\n",
      "|  Patricia|           4|             101.8|                   1.99|\n",
      "|     David|           4|            8026.8|                   1.99|\n",
      "|     Jason|           3|           11448.3|                  1.493|\n",
      "|   Shirley|           3|           23654.3|                  1.493|\n",
      "|     Joyce|           2|           17848.0|                  0.995|\n",
      "|    Robert|           2|             114.0|                  0.995|\n",
      "|     Shawn|           2|           15207.0|                  0.995|\n",
      "|   Michael|           2|             161.0|                  0.995|\n",
      "|     Betty|           2|              94.0|                  0.995|\n",
      "| Dominique|           2|           17503.5|                  0.995|\n",
      "|   Roberta|           2|           36707.0|                  0.995|\n",
      "|   Jessica|           2|           17297.0|                  0.995|\n",
      "|    Donald|           2|           34164.5|                  0.995|\n",
      "|  Jonathan|           2|           33333.0|                  0.995|\n",
      "|   Timothy|           2|           16595.0|                  0.995|\n",
      "|    Amanda|           2|              97.5|                  0.995|\n",
      "+----------+------------+------------------+-----------------------+\n",
      "only showing top 20 rows\n",
      "\n"
     ]
    }
   ],
   "source": [
    "full_name_df = (\n",
    "    late_returns_df.select(\"customer_name\", \"days_kept\")\n",
    "    .withColumn(\"first_name\", split(col(\"customer_name\"), \" \").getItem(0))\n",
    "    .withColumn(\"last_name\", split(col(\"customer_name\"), \" \").getItem(1))\n",
    "    .drop(\"customer_name\")\n",
    ")\n",
    "total_late_returns_per_first_name = full_name_df.count()\n",
    "\n",
    "first_name_df = (\n",
    "    full_name_df.groupBy(\"first_name\")\n",
    "    .agg(\n",
    "        count(\"first_name\").alias(\"late_returns\"),\n",
    "        round(avg(\"days_kept\"), 1).alias(\"avgerage_days_kept\"),\n",
    "    )\n",
    "    .orderBy(desc(\"late_returns\"))\n",
    ")\n",
    "\n",
    "first_name_df = first_name_df.withColumn(\n",
    "    \"percentage_late_returns\",\n",
    "    lit(calculate_percentage(total_late_returns_per_first_name, col(\"late_returns\"))),\n",
    ")\n",
    "\n",
    "print(total_late_returns_per_first_name)\n",
    "first_name_df.show()"
   ]
  },
  {
   "cell_type": "code",
   "execution_count": 19,
   "metadata": {},
   "outputs": [
    {
     "name": "stdout",
     "output_type": "stream",
     "text": [
      "+---------+-----+\n",
      "|last_name|count|\n",
      "+---------+-----+\n",
      "|      Lee|    3|\n",
      "|   Bolton|    2|\n",
      "|    Lopez|    2|\n",
      "|  Johnson|    2|\n",
      "|  Saldana|    2|\n",
      "|    Smith|    2|\n",
      "|  Jackson|    2|\n",
      "|   Barber|    2|\n",
      "|   Dennis|    2|\n",
      "|  Kennedy|    2|\n",
      "|   Cooper|    2|\n",
      "|Castaneda|    1|\n",
      "|  Baldwin|    1|\n",
      "|  Donnell|    1|\n",
      "| Mccallum|    1|\n",
      "|   Briley|    1|\n",
      "|    Ruben|    1|\n",
      "|    Jones|    1|\n",
      "|     Teal|    1|\n",
      "|    Scott|    1|\n",
      "+---------+-----+\n",
      "only showing top 20 rows\n",
      "\n"
     ]
    }
   ],
   "source": [
    "last_name_df = full_name_df.groupBy(\"last_name\").count().orderBy(desc(\"count\"))\n",
    "last_name_df.show()"
   ]
  },
  {
   "cell_type": "code",
   "execution_count": 20,
   "metadata": {},
   "outputs": [
    {
     "name": "stdout",
     "output_type": "stream",
     "text": [
      "196\n",
      "+-------------------+------------+-----------------------+\n",
      "|customer_occupation|late_returns|percentage_late_returns|\n",
      "+-------------------+------------+-----------------------+\n",
      "|               Tech|          35|                 17.857|\n",
      "|    Admin & Support|          28|                 14.286|\n",
      "| Business & Finance|          28|                 14.286|\n",
      "|             Others|          28|                 14.286|\n",
      "|              Sales|          26|                 13.265|\n",
      "|        Blue Collar|          26|                 13.265|\n",
      "| Education & Health|          25|                 12.755|\n",
      "+-------------------+------------+-----------------------+\n",
      "\n"
     ]
    }
   ],
   "source": [
    "occupation_df = late_returns_df.filter(col(\"customer_occupation\").isNotNull())\n",
    "total_late_returns_per_occupation = occupation_df.count()\n",
    "\n",
    "occupation_df = (\n",
    "    occupation_df.groupBy(\"customer_occupation\")\n",
    "    .count()\n",
    "    .select(\"customer_occupation\", col(\"count\").alias(\"late_returns\"))\n",
    "    .orderBy(desc(\"late_returns\"))\n",
    ")\n",
    "\n",
    "occupation_df = occupation_df.withColumn(\n",
    "    \"percentage_late_returns\",\n",
    "    lit(calculate_percentage(total_late_returns_per_occupation, col(\"late_returns\"))),\n",
    ")\n",
    "\n",
    "print(total_late_returns_per_occupation)\n",
    "occupation_df.show()"
   ]
  },
  {
   "cell_type": "code",
   "execution_count": 21,
   "metadata": {},
   "outputs": [
    {
     "name": "stdout",
     "output_type": "stream",
     "text": [
      "186\n",
      "+------------------+------------+-----------------------+\n",
      "|customer_education|late_returns|percentage_late_returns|\n",
      "+------------------+------------+-----------------------+\n",
      "|           College|          49|                 26.344|\n",
      "|   Graduate Degree|          47|                 25.269|\n",
      "|       High School|          46|                 24.731|\n",
      "|            Others|          44|                 23.656|\n",
      "+------------------+------------+-----------------------+\n",
      "\n"
     ]
    }
   ],
   "source": [
    "education_df = late_returns_df.filter(col(\"customer_education\").isNotNull())\n",
    "total_late_returns_per_education = education_df.count()\n",
    "\n",
    "education_df = (\n",
    "    education_df.groupBy(\"customer_education\")\n",
    "    .count()\n",
    "    .select(\"customer_education\", col(\"count\").alias(\"late_returns\"))\n",
    "    .orderBy(desc(\"late_returns\"))\n",
    ")\n",
    "\n",
    "education_df = education_df.withColumn(\n",
    "    \"percentage_late_returns\",\n",
    "    lit(calculate_percentage(total_late_returns_per_education, col(\"late_returns\"))),\n",
    ")\n",
    "\n",
    "print(total_late_returns_per_education)\n",
    "education_df.show()"
   ]
  },
  {
   "cell_type": "code",
   "execution_count": 22,
   "metadata": {},
   "outputs": [
    {
     "name": "stdout",
     "output_type": "stream",
     "text": [
      "182\n",
      "+------------------+-------------------+------------+-----------------------+\n",
      "|customer_education|customer_occupation|late_returns|percentage_late_returns|\n",
      "+------------------+-------------------+------------+-----------------------+\n",
      "|       High School|               Tech|          11|                  6.044|\n",
      "|           College|             Others|           9|                  4.945|\n",
      "|           College|              Sales|           9|                  4.945|\n",
      "|   Graduate Degree|               Tech|           8|                  4.396|\n",
      "|           College| Business & Finance|           8|                  4.396|\n",
      "|   Graduate Degree|    Admin & Support|           8|                  4.396|\n",
      "|       High School| Business & Finance|           8|                  4.396|\n",
      "|       High School|    Admin & Support|           8|                  4.396|\n",
      "|            Others|               Tech|           8|                  4.396|\n",
      "|            Others|        Blue Collar|           8|                  4.396|\n",
      "|            Others| Education & Health|           6|                  3.297|\n",
      "|   Graduate Degree| Business & Finance|           6|                  3.297|\n",
      "|           College|    Admin & Support|           6|                  3.297|\n",
      "|           College|               Tech|           6|                  3.297|\n",
      "|   Graduate Degree|              Sales|           6|                  3.297|\n",
      "|   Graduate Degree|             Others|           6|                  3.297|\n",
      "|            Others|    Admin & Support|           6|                  3.297|\n",
      "|   Graduate Degree| Education & Health|           6|                  3.297|\n",
      "|   Graduate Degree|        Blue Collar|           6|                  3.297|\n",
      "|            Others|              Sales|           6|                  3.297|\n",
      "+------------------+-------------------+------------+-----------------------+\n",
      "only showing top 20 rows\n",
      "\n"
     ]
    }
   ],
   "source": [
    "education_occupation_df = late_returns_df.filter(\n",
    "    (col(\"customer_education\").isNotNull()) & (\n",
    "        col(\"customer_occupation\").isNotNull())\n",
    ")\n",
    "total_late_returns_per_education_occupation = education_occupation_df.count()\n",
    "\n",
    "education_occupation_df = (\n",
    "    education_occupation_df.groupBy(\n",
    "        \"customer_education\", \"customer_occupation\")\n",
    "    .count()\n",
    "    .select(\n",
    "        \"customer_education\",\n",
    "        \"customer_occupation\",\n",
    "        col(\"count\").alias(\"late_returns\"),\n",
    "    )\n",
    "    .orderBy(desc(\"late_returns\"))\n",
    ")\n",
    "\n",
    "education_occupation_df = education_occupation_df.withColumn(\n",
    "    \"percentage_late_returns\",\n",
    "    lit(\n",
    "        calculate_percentage(\n",
    "            total_late_returns_per_education_occupation, col(\"late_returns\")\n",
    "        )\n",
    "    ),\n",
    ")\n",
    "\n",
    "print(total_late_returns_per_education_occupation)\n",
    "education_occupation_df.show()"
   ]
  },
  {
   "cell_type": "code",
   "execution_count": 23,
   "metadata": {},
   "outputs": [
    {
     "name": "stdout",
     "output_type": "stream",
     "text": [
      "174\n",
      "+---------------+-------------------+------------------+------------+-----------------------+\n",
      "|customer_gender|customer_occupation|customer_education|late_returns|percentage_late_returns|\n",
      "+---------------+-------------------+------------------+------------+-----------------------+\n",
      "|           male|              Sales|           College|           7|                  4.023|\n",
      "|         female|               Tech|       High School|           6|                  3.448|\n",
      "|           male|    Admin & Support|   Graduate Degree|           6|                  3.448|\n",
      "|         female|        Blue Collar|            Others|           6|                  3.448|\n",
      "|           male| Business & Finance|           College|           5|                  2.874|\n",
      "|           male| Business & Finance|       High School|           5|                  2.874|\n",
      "|           male|    Admin & Support|           College|           5|                  2.874|\n",
      "|         female|               Tech|   Graduate Degree|           5|                  2.874|\n",
      "|           male|             Others|           College|           5|                  2.874|\n",
      "|           male|    Admin & Support|       High School|           5|                  2.874|\n",
      "|         female|        Blue Collar|           College|           4|                  2.299|\n",
      "|           male| Education & Health|       High School|           4|                  2.299|\n",
      "|         female|               Tech|            Others|           4|                  2.299|\n",
      "|           male|             Others|       High School|           4|                  2.299|\n",
      "|         female|             Others|            Others|           4|                  2.299|\n",
      "|         female|             Others|           College|           4|                  2.299|\n",
      "|           male|             Others|   Graduate Degree|           4|                  2.299|\n",
      "|         female|    Admin & Support|            Others|           4|                  2.299|\n",
      "|         female|        Blue Collar|   Graduate Degree|           4|                  2.299|\n",
      "|         female|              Sales|            Others|           4|                  2.299|\n",
      "+---------------+-------------------+------------------+------------+-----------------------+\n",
      "only showing top 20 rows\n",
      "\n"
     ]
    }
   ],
   "source": [
    "gender_education_occupation_df = late_returns_df.filter(\n",
    "    (col(\"customer_education\").isNotNull())\n",
    "    & (col(\"customer_occupation\").isNotNull())\n",
    "    & (col(\"customer_gender\").isNotNull())\n",
    ")\n",
    "total_late_returns_per_gender_education_occupation = (\n",
    "    gender_education_occupation_df.count()\n",
    ")\n",
    "\n",
    "gender_occupation_education_df = (\n",
    "    gender_education_occupation_df.groupBy(\n",
    "        \"customer_gender\", \"customer_occupation\", \"customer_education\"\n",
    "    )\n",
    "    .count()\n",
    "    .select(\n",
    "        \"customer_gender\",\n",
    "        \"customer_occupation\",\n",
    "        \"customer_education\",\n",
    "        col(\"count\").alias(\"late_returns\"),\n",
    "    )\n",
    "    .orderBy(desc(\"late_returns\"))\n",
    ")\n",
    "gender_occupation_education_df = gender_occupation_education_df.withColumn(\n",
    "    \"percentage_late_returns\",\n",
    "    lit(\n",
    "        calculate_percentage(\n",
    "            total_late_returns_per_gender_education_occupation, col(\n",
    "                \"late_returns\")\n",
    "        )\n",
    "    ),\n",
    ")\n",
    "\n",
    "print(total_late_returns_per_gender_education_occupation)\n",
    "gender_occupation_education_df.show()"
   ]
  },
  {
   "cell_type": "code",
   "execution_count": 24,
   "metadata": {},
   "outputs": [
    {
     "name": "stdout",
     "output_type": "stream",
     "text": [
      "201\n",
      "+---------------+------------+-----------------------+\n",
      "|day_of_the_week|late_returns|percentage_late_returns|\n",
      "+---------------+------------+-----------------------+\n",
      "|        Tuesday|          41|                 20.398|\n",
      "|      Wednesday|          34|                 16.915|\n",
      "|       Thursday|          30|                 14.925|\n",
      "|       Saturday|          29|                 14.428|\n",
      "|         Friday|          28|                  13.93|\n",
      "|         Monday|          27|                 13.433|\n",
      "|         Sunday|          12|                   5.97|\n",
      "+---------------+------------+-----------------------+\n",
      "\n"
     ]
    }
   ],
   "source": [
    "day_of_week_checkout_df = late_returns_df.withColumn(\n",
    "    \"day_of_the_week\", date_format(\"date_checkout\", \"EEEE\")\n",
    ")\n",
    "total_late_returns_per_day_of_week = day_of_week_checkout_df.count()\n",
    "\n",
    "day_of_week_checkout_df = (\n",
    "    day_of_week_checkout_df.groupBy(\"day_of_the_week\")\n",
    "    .count()\n",
    "    .select(\"day_of_the_week\", col(\"count\").alias(\"late_returns\"))\n",
    "    .orderBy(desc(\"late_returns\"))\n",
    ")\n",
    "day_of_week_checkout_df = day_of_week_checkout_df.withColumn(\n",
    "    \"percentage_late_returns\",\n",
    "    lit(\n",
    "        calculate_percentage(\n",
    "            total_late_returns_per_day_of_week, col(\"late_returns\")\n",
    "        )\n",
    "    ),\n",
    ")\n",
    "\n",
    "print(total_late_returns_per_day_of_week)\n",
    "day_of_week_checkout_df.show()"
   ]
  },
  {
   "cell_type": "code",
   "execution_count": 25,
   "metadata": {},
   "outputs": [
    {
     "name": "stdout",
     "output_type": "stream",
     "text": [
      "201\n",
      "+---------+------------+-----------------------+\n",
      "|    month|late_returns|percentage_late_returns|\n",
      "+---------+------------+-----------------------+\n",
      "| November|          22|                 10.945|\n",
      "| December|          21|                 10.448|\n",
      "|  January|          20|                   9.95|\n",
      "|   August|          19|                  9.453|\n",
      "|    April|          17|                  8.458|\n",
      "|September|          16|                   7.96|\n",
      "| February|          16|                   7.96|\n",
      "|     July|          16|                   7.96|\n",
      "|  October|          15|                  7.463|\n",
      "|     June|          14|                  6.965|\n",
      "|    March|          13|                  6.468|\n",
      "|      May|          12|                   5.97|\n",
      "+---------+------------+-----------------------+\n",
      "\n"
     ]
    }
   ],
   "source": [
    "month_checkout_df = late_returns_df.withColumn(\n",
    "    \"month\", date_format(\"date_checkout\", \"MMMM\")\n",
    ")\n",
    "total_late_returns_per_month = month_checkout_df.count()\n",
    "\n",
    "month_checkout_df = (\n",
    "    month_checkout_df.groupBy(\"month\")\n",
    "    .count()\n",
    "    .select(\"month\", col(\"count\").alias(\"late_returns\"))\n",
    "    .orderBy(desc(\"late_returns\"))\n",
    ")\n",
    "month_checkout_df = month_checkout_df.withColumn(\n",
    "    \"percentage_late_returns\",\n",
    "    lit(\n",
    "        calculate_percentage(\n",
    "            total_late_returns_per_month, col(\"late_returns\")\n",
    "        )\n",
    "    ),\n",
    ")\n",
    "\n",
    "print(total_late_returns_per_month)\n",
    "month_checkout_df.show()"
   ]
  }
 ],
 "metadata": {
  "kernelspec": {
   "display_name": "Python 3",
   "language": "python",
   "name": "python3"
  },
  "language_info": {
   "codemirror_mode": {
    "name": "ipython",
    "version": 3
   },
   "file_extension": ".py",
   "mimetype": "text/x-python",
   "name": "python",
   "nbconvert_exporter": "python",
   "pygments_lexer": "ipython3",
   "version": "3.10.4"
  }
 },
 "nbformat": 4,
 "nbformat_minor": 2
}
