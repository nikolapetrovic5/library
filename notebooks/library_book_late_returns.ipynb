{
 "cells": [
  {
   "cell_type": "markdown",
   "metadata": {},
   "source": [
    "### Imports."
   ]
  },
  {
   "cell_type": "code",
   "execution_count": null,
   "metadata": {},
   "outputs": [],
   "source": [
    "import os\n",
    "\n",
    "from pyspark.sql import SparkSession\n",
    "from pyspark.sql.types import StringType, DecimalType, LongType, ArrayType\n",
    "from pyspark.sql.functions import to_date, from_json, regexp_replace, col, when, lower, initcap, explode_outer, datediff, desc, split, lit, round, avg, count, date_format"
   ]
  },
  {
   "cell_type": "markdown",
   "metadata": {},
   "source": [
    "### Execute the shared notebook to utilize the common utilities."
   ]
  },
  {
   "cell_type": "code",
   "execution_count": null,
   "metadata": {},
   "outputs": [],
   "source": [
    "%run .//shared//load_yaml_config.ipynb"
   ]
  },
  {
   "cell_type": "markdown",
   "metadata": {},
   "source": [
    "### Configurations."
   ]
  },
  {
   "cell_type": "code",
   "execution_count": null,
   "metadata": {},
   "outputs": [],
   "source": [
    "config = load_configs()\n",
    "\n",
    "source_dir = config[\"data\"][\"source_dir\"]\n",
    "customer_file = config[\"data\"][\"customers_file\"]\n",
    "libraries_file = config[\"data\"][\"libraries_file\"]\n",
    "checkouts_file = config[\"data\"][\"checkouts_file\"]\n",
    "books_file = config[\"data\"][\"books_file\"]\n",
    "source_data_format = config[\"data\"][\"source_data_format\"]\n",
    "\n",
    "spark_source_data_read_options = config[\"spark_source_data_read_options\"]\n",
    "return_limit_in_days = config[\"data\"][\"return_limit_in_days\"]\n",
    "\n",
    "customers_path = os.path.join(source_dir, customer_file)\n",
    "libraries_path = os.path.join(source_dir, libraries_file)\n",
    "checkouts_path = os.path.join(source_dir, checkouts_file)\n",
    "books_path = os.path.join(source_dir, books_file)\n",
    "\n",
    "print(customers_path)\n",
    "print(libraries_path)\n",
    "print(checkouts_path)\n",
    "print(books_path)\n",
    "print(spark_source_data_read_options)\n",
    "print(return_limit_in_days)\n",
    "print(source_data_format)"
   ]
  },
  {
   "cell_type": "markdown",
   "metadata": {},
   "source": [
    "### Build spark session."
   ]
  },
  {
   "cell_type": "code",
   "execution_count": null,
   "metadata": {},
   "outputs": [],
   "source": [
    "spark = SparkSession.builder.appName(\n",
    "    \"library_book_late_analysis\").master(\"local\").getOrCreate()"
   ]
  },
  {
   "cell_type": "markdown",
   "metadata": {},
   "source": [
    "### Read raw data."
   ]
  },
  {
   "cell_type": "code",
   "execution_count": null,
   "metadata": {},
   "outputs": [],
   "source": [
    "customers_raw_df = spark.read.format(source_data_format).options(\n",
    "    **spark_source_data_read_options).load(customers_path)\n",
    "if customers_raw_df.isEmpty():\n",
    "    raise SystemExit(\"Customers collection is empty!\")\n",
    "\n",
    "\n",
    "books_raw_df = spark.read.format(source_data_format).options(\n",
    "    **spark_source_data_read_options).load(books_path)\n",
    "if books_raw_df.isEmpty():\n",
    "    raise SystemExit(\"Books collection is empty!\")\n",
    "\n",
    "\n",
    "checkouts_raw_df = spark.read.format(source_data_format).options(\n",
    "    **spark_source_data_read_options).load(checkouts_path)\n",
    "if checkouts_raw_df.isEmpty():\n",
    "    raise SystemExit(\"Checkouts collection is empty!\")\n",
    "\n",
    "\n",
    "libraries_raw_df = spark.read.format(source_data_format).options(\n",
    "    **spark_source_data_read_options).load(libraries_path)\n",
    "if libraries_raw_df.isEmpty():\n",
    "    raise SystemExit(\"Libraries collection is empty!\")"
   ]
  },
  {
   "cell_type": "markdown",
   "metadata": {},
   "source": [
    "### Function definitions."
   ]
  },
  {
   "cell_type": "code",
   "execution_count": null,
   "metadata": {},
   "outputs": [],
   "source": [
    "\"\"\"\n",
    "Input arguments:\n",
    "    1. total_amount (int) - Represents the total value, equivalent to 100%.\n",
    "    2. part_amount (int) - The value for which the percentage will be calculated relative to total_amount.\n",
    "\n",
    "Output:\n",
    "    1. (int) - Returns percentage calculated from part_amount and total_amount.\n",
    "\n",
    "Description:\n",
    "    This function calculates percentage of part_amount relative to total_amount and\n",
    "    rounds the result to the specified number of decimal places.\n",
    "\"\"\"\n",
    "\n",
    "\n",
    "def calculate_percentage(total_amount: int, part_amount: int):\n",
    "    decimals = 3\n",
    "\n",
    "    try:\n",
    "        return round((part_amount / total_amount) * 100, decimals)\n",
    "    except ZeroDivisionError:\n",
    "        print(\"Total amount can't be zero!\")"
   ]
  },
  {
   "cell_type": "code",
   "execution_count": null,
   "metadata": {},
   "outputs": [],
   "source": [
    "\"\"\"\n",
    "Input arguments:\n",
    "    1. df (DataFrame) - The dataframe on which operation is performed.\n",
    "\n",
    "Output:\n",
    "    1. df (DataFrame) - Returns the modified dataframe.\n",
    "\n",
    "Description:\n",
    "    This function removes all leading and trailing whitespace from a string\n",
    "    and replaces multiple consecutive spaces between words with a single space.\n",
    "\"\"\"\n",
    "\n",
    "\n",
    "def trim_white_spaces_from_df(df):\n",
    "    for field in df.dtypes:\n",
    "        column_name = field[0]\n",
    "        column_type = field[1]\n",
    "\n",
    "        if column_type != \"string\":\n",
    "            continue\n",
    "\n",
    "        df = df.withColumn(\n",
    "            column_name, regexp_replace(column_name, \"\\s+\", \" \")\n",
    "        )\n",
    "    return df"
   ]
  },
  {
   "cell_type": "code",
   "execution_count": null,
   "metadata": {},
   "outputs": [],
   "source": [
    "\"\"\"\n",
    "Input arguments:\n",
    "    1. df (DataFrame) - The dataframe on which the operation is performed.\n",
    "    2. perfix (str) - A string that will be prefixed to the beginning of \n",
    "    every column name, except for the id column.\n",
    "\n",
    "Output:\n",
    "    1. df (DataFrame) - Returns modified dataframe.\n",
    "\n",
    "Description:\n",
    "    This function is employed to rename columns prior to merging data from the \n",
    "    Libraries, Checkouts and Customers tables. This step is necessary to facilitate\n",
    "    data manipulation, as Libraries and Customers share identical column names in\n",
    "    some instances. The only exception to this renaming process is the id column, as\n",
    "    the Checkouts table already include a prefix for its foreign key (i.e., library_id)\n",
    "\"\"\"\n",
    "\n",
    "\n",
    "def append_prefix_to_column_name(df, prefix: str):\n",
    "    for column_name in df.columns:\n",
    "        if column_name == \"id\":\n",
    "            continue\n",
    "\n",
    "        new_column_name = f\"{prefix}_{column_name}\"\n",
    "        df = df.withColumnRenamed(column_name, new_column_name)\n",
    "\n",
    "    return df"
   ]
  },
  {
   "cell_type": "markdown",
   "metadata": {},
   "source": [
    "### Checkouts collection data cleaning."
   ]
  },
  {
   "cell_type": "code",
   "execution_count": null,
   "metadata": {},
   "outputs": [],
   "source": [
    "checkouts_df = trim_white_spaces_from_df(checkouts_raw_df)\n",
    "\n",
    "# Cast string columns to date data types\n",
    "checkouts_df = checkouts_df.withColumn(\n",
    "    \"date_checkout\", to_date(\"date_checkout\", \"yyyy-MM-dd\")\n",
    ").withColumn(\"date_returned\", to_date(\"date_returned\", \"yyyy-MM-dd\"))\n",
    "\n",
    "print(checkouts_df.count())\n",
    "checkouts_df.show()"
   ]
  },
  {
   "cell_type": "markdown",
   "metadata": {},
   "source": [
    "### Books collection data cleaning."
   ]
  },
  {
   "cell_type": "code",
   "execution_count": null,
   "metadata": {},
   "outputs": [],
   "source": [
    "books_df = trim_white_spaces_from_df(books_raw_df)\n",
    "\n",
    "# Retain only numeric characters and dots in the price column\n",
    "# Retain only numeric characters in the pages column\n",
    "books_df = (\n",
    "    books_df.withColumn(\"price\", regexp_replace(\"price\", \"[^\\d\\.]\", \"\"))\n",
    "    .withColumn(\"pages\", regexp_replace(\"pages\", \"[^\\d]\", \"\"))\n",
    ")\n",
    "\n",
    "books_df = books_df.withColumn(\n",
    "    \"categories\",\n",
    "    when(\n",
    "        col(\"categories\").contains(\"&\"), regexp_replace(\n",
    "            \"categories\", \"&\", \"','\")\n",
    "    ).otherwise(col(\"categories\")),\n",
    ")\n",
    "\n",
    "books_df = books_df.withColumn(\n",
    "    \"categories\",\n",
    "    when(\n",
    "        col(\"categories\").contains(\",\"), regexp_replace(\n",
    "            \"categories\", \",\", \"','\")\n",
    "    ).otherwise(col(\"categories\")),\n",
    ")\n",
    "\n",
    "# Convert columns to their appropriate data types\n",
    "# Explode the data on the authors and categories fields\n",
    "# Renamae the column to follow snake_case conventions\n",
    "books_df = (\n",
    "    books_df.withColumn(\"authors\", from_json(\n",
    "        \"authors\", ArrayType(StringType())))\n",
    "    .withColumn(\"categories\", from_json(\"categories\", ArrayType(StringType())))\n",
    "    .withColumn(\"pages\", col(\"pages\").cast(LongType()))\n",
    "    .withColumn(\"price\", col(\"price\").cast(DecimalType(precision=10, scale=2)))\n",
    "    .withColumn(\"authors\", explode_outer(col(\"authors\")))\n",
    "    .withColumn(\"categories\", explode_outer(col(\"categories\")))\n",
    "    .withColumnRenamed(\"publishedDate\", \"published_date\")\n",
    ")\n",
    "\n",
    "books_df = trim_white_spaces_from_df(books_df)\n",
    "\n",
    "print(books_df.count())\n",
    "books_df.show()"
   ]
  },
  {
   "cell_type": "markdown",
   "metadata": {},
   "source": [
    "### Customers collection data cleaning."
   ]
  },
  {
   "cell_type": "code",
   "execution_count": null,
   "metadata": {},
   "outputs": [],
   "source": [
    "customers_df = trim_white_spaces_from_df(customers_raw_df)\n",
    "\n",
    "# Retain only numeric characters and dots in the zipcode to extract the number without decimals\n",
    "# Convert the data types of the columns and apply the initicap function to capitalize the first letter of each word\n",
    "customers_df = (\n",
    "    customers_df.withColumn(\n",
    "        \"zipcode\", regexp_replace(\"zipcode\", \"[^\\d\\.]\", \"\"))\n",
    "    .withColumn(\"zipcode\", col(\"zipcode\").cast(LongType()))\n",
    "    .withColumn(\"city\", initcap(\"city\"))\n",
    "    .withColumn(\"name\", initcap(\"name\"))\n",
    "    .withColumn(\"education\", initcap(\"education\"))\n",
    "    .withColumn(\"state\", initcap(\"state\"))\n",
    "    .withColumn(\"gender\", lower(col(\"gender\")))\n",
    "    .withColumn(\"occupation\", initcap(\"occupation\"))\n",
    ")\n",
    "\n",
    "print(customers_df.count())\n",
    "customers_df.show()"
   ]
  },
  {
   "cell_type": "markdown",
   "metadata": {},
   "source": [
    "### Libraries collection data cleaning."
   ]
  },
  {
   "cell_type": "code",
   "execution_count": null,
   "metadata": {},
   "outputs": [],
   "source": [
    "libraries_df = trim_white_spaces_from_df(libraries_raw_df)\n",
    "\n",
    "# Retain only numeric characters and dots in the postal_code to extract the number without decimals\n",
    "# Convert the data types of the columns and apply the initicap function to capitalize the first letter of each word\n",
    "libraries_df = (\n",
    "    libraries_df.withColumn(\"region\", lower(col(\"region\")))\n",
    "    .withColumn(\"postal_code\", regexp_replace(\"postal_code\", \"[^\\d\\.]\", \"\"))\n",
    "    .withColumn(\"postal_code\", col(\"postal_code\").cast(LongType()))\n",
    "    .withColumn(\"city\", initcap(\"city\"))\n",
    ")\n",
    "\n",
    "print(libraries_df.count())\n",
    "libraries_df.show()"
   ]
  },
  {
   "cell_type": "markdown",
   "metadata": {},
   "source": [
    "### Merge data into single dataframe."
   ]
  },
  {
   "cell_type": "code",
   "execution_count": null,
   "metadata": {},
   "outputs": [],
   "source": [
    "checkouts_df = checkouts_df.withColumnRenamed(\"id\", \"checkout_id\")\n",
    "libraries_df = append_prefix_to_column_name(df=libraries_df, prefix=\"library\")\n",
    "\n",
    "library_checkouts = checkouts_df.join(\n",
    "    libraries_df, on=checkouts_df.library_id == libraries_df.id, how=\"inner\"\n",
    ").drop(\"id\")\n",
    "\n",
    "customers_df = append_prefix_to_column_name(df=customers_df, prefix=\"customer\")\n",
    "\n",
    "final_df = library_checkouts.join(\n",
    "    customers_df, on=library_checkouts.patron_id == customers_df.id, how=\"inner\").drop(\"id\")\n",
    "final_df = final_df.withColumn(\"days_kept\", datediff(\n",
    "    col(\"date_returned\"), col(\"date_checkout\")))\n",
    "\n",
    "final_df.show()"
   ]
  },
  {
   "cell_type": "markdown",
   "metadata": {},
   "source": [
    "### Filter data where books were returned late."
   ]
  },
  {
   "cell_type": "code",
   "execution_count": null,
   "metadata": {},
   "outputs": [],
   "source": [
    "# Considering only records where customers returned books late.\n",
    "# The checkout date must not exceed the return date.\n",
    "# The customer's birth date must not be later then the checkout date.\n",
    "late_returns_df = final_df.filter(\n",
    "    (col(\"days_kept\") >= return_limit_in_days)\n",
    "    & (col(\"date_checkout\") < col(\"date_returned\"))\n",
    "    & (col(\"date_checkout\") > col(\"customer_birth_date\"))\n",
    ")\n",
    "\n",
    "if late_returns_df.isEmpty():\n",
    "    raise SystemExit(\"No data found in unified table!\")\n",
    "\n",
    "print(late_returns_df.count())\n",
    "late_returns_df.show()"
   ]
  },
  {
   "cell_type": "markdown",
   "metadata": {},
   "source": [
    "### Analysis."
   ]
  },
  {
   "cell_type": "code",
   "execution_count": null,
   "metadata": {},
   "outputs": [],
   "source": [
    "late_returns_df.describe().show()"
   ]
  },
  {
   "cell_type": "code",
   "execution_count": null,
   "metadata": {},
   "outputs": [],
   "source": [
    "customer_city_df = late_returns_df.filter((col(\"customer_city\").isNotNull()))\n",
    "total_late_returns_per_customer_city = customer_city_df.count()\n",
    "\n",
    "customer_city_df = (\n",
    "    customer_city_df.groupBy(\"customer_city\")\n",
    "    .count()\n",
    "    .select(\"customer_city\", col(\"count\").alias(\"late_returns\"))\n",
    "    .orderBy(\n",
    "        desc(\"late_returns\"),\n",
    "    )\n",
    ")\n",
    "customer_city_df = customer_city_df.withColumn(\n",
    "    \"percentage_late_returns\",\n",
    "    lit(calculate_percentage(total_late_returns_per_customer_city, col(\"late_returns\"))),\n",
    ")\n",
    "\n",
    "print(total_late_returns_per_customer_city)\n",
    "customer_city_df.show()"
   ]
  },
  {
   "cell_type": "code",
   "execution_count": null,
   "metadata": {},
   "outputs": [],
   "source": [
    "full_name_df = (\n",
    "    late_returns_df.select(\"customer_name\", \"days_kept\")\n",
    "    .withColumn(\"first_name\", split(col(\"customer_name\"), \" \").getItem(0))\n",
    "    .withColumn(\"last_name\", split(col(\"customer_name\"), \" \").getItem(1))\n",
    "    .drop(\"customer_name\")\n",
    ")\n",
    "total_late_returns_per_first_name = full_name_df.count()\n",
    "\n",
    "first_name_df = (\n",
    "    full_name_df.groupBy(\"first_name\")\n",
    "    .agg(\n",
    "        count(\"first_name\").alias(\"late_returns\"),\n",
    "        round(avg(\"days_kept\"), 1).alias(\"avgerage_days_kept\"),\n",
    "    )\n",
    "    .orderBy(desc(\"late_returns\"))\n",
    ")\n",
    "\n",
    "first_name_df = first_name_df.withColumn(\n",
    "    \"percentage_late_returns\",\n",
    "    lit(calculate_percentage(total_late_returns_per_first_name, col(\"late_returns\"))),\n",
    ")\n",
    "\n",
    "print(total_late_returns_per_first_name)\n",
    "first_name_df.show()"
   ]
  },
  {
   "cell_type": "code",
   "execution_count": null,
   "metadata": {},
   "outputs": [],
   "source": [
    "last_name_df = full_name_df.groupBy(\"last_name\").count().orderBy(desc(\"count\"))\n",
    "last_name_df.show()"
   ]
  },
  {
   "cell_type": "code",
   "execution_count": null,
   "metadata": {},
   "outputs": [],
   "source": [
    "occupation_df = late_returns_df.filter(col(\"customer_occupation\").isNotNull())\n",
    "total_late_returns_per_occupation = occupation_df.count()\n",
    "\n",
    "occupation_df = (\n",
    "    occupation_df.groupBy(\"customer_occupation\")\n",
    "    .count()\n",
    "    .select(\"customer_occupation\", col(\"count\").alias(\"late_returns\"))\n",
    "    .orderBy(desc(\"late_returns\"))\n",
    ")\n",
    "\n",
    "occupation_df = occupation_df.withColumn(\n",
    "    \"percentage_late_returns\",\n",
    "    lit(calculate_percentage(total_late_returns_per_occupation, col(\"late_returns\"))),\n",
    ")\n",
    "\n",
    "print(total_late_returns_per_occupation)\n",
    "occupation_df.show()"
   ]
  },
  {
   "cell_type": "code",
   "execution_count": null,
   "metadata": {},
   "outputs": [],
   "source": [
    "education_df = late_returns_df.filter(col(\"customer_education\").isNotNull())\n",
    "total_late_returns_per_education = education_df.count()\n",
    "\n",
    "education_df = (\n",
    "    education_df.groupBy(\"customer_education\")\n",
    "    .count()\n",
    "    .select(\"customer_education\", col(\"count\").alias(\"late_returns\"))\n",
    "    .orderBy(desc(\"late_returns\"))\n",
    ")\n",
    "\n",
    "education_df = education_df.withColumn(\n",
    "    \"percentage_late_returns\",\n",
    "    lit(calculate_percentage(total_late_returns_per_education, col(\"late_returns\"))),\n",
    ")\n",
    "\n",
    "print(total_late_returns_per_education)\n",
    "education_df.show()"
   ]
  },
  {
   "cell_type": "code",
   "execution_count": null,
   "metadata": {},
   "outputs": [],
   "source": [
    "education_occupation_df = late_returns_df.filter(\n",
    "    (col(\"customer_education\").isNotNull()) & (\n",
    "        col(\"customer_occupation\").isNotNull())\n",
    ")\n",
    "total_late_returns_per_education_occupation = education_occupation_df.count()\n",
    "\n",
    "education_occupation_df = (\n",
    "    education_occupation_df.groupBy(\n",
    "        \"customer_education\", \"customer_occupation\")\n",
    "    .count()\n",
    "    .select(\n",
    "        \"customer_education\",\n",
    "        \"customer_occupation\",\n",
    "        col(\"count\").alias(\"late_returns\"),\n",
    "    )\n",
    "    .orderBy(desc(\"late_returns\"))\n",
    ")\n",
    "\n",
    "education_occupation_df = education_occupation_df.withColumn(\n",
    "    \"percentage_late_returns\",\n",
    "    lit(\n",
    "        calculate_percentage(\n",
    "            total_late_returns_per_education_occupation, col(\"late_returns\")\n",
    "        )\n",
    "    ),\n",
    ")\n",
    "\n",
    "print(total_late_returns_per_education_occupation)\n",
    "education_occupation_df.show()"
   ]
  },
  {
   "cell_type": "code",
   "execution_count": null,
   "metadata": {},
   "outputs": [],
   "source": [
    "gender_education_occupation_df = late_returns_df.filter(\n",
    "    (col(\"customer_education\").isNotNull())\n",
    "    & (col(\"customer_occupation\").isNotNull())\n",
    "    & (col(\"customer_gender\").isNotNull())\n",
    ")\n",
    "total_late_returns_per_gender_education_occupation = (\n",
    "    gender_education_occupation_df.count()\n",
    ")\n",
    "\n",
    "gender_occupation_education_df = (\n",
    "    gender_education_occupation_df.groupBy(\n",
    "        \"customer_gender\", \"customer_occupation\", \"customer_education\"\n",
    "    )\n",
    "    .count()\n",
    "    .select(\n",
    "        \"customer_gender\",\n",
    "        \"customer_occupation\",\n",
    "        \"customer_education\",\n",
    "        col(\"count\").alias(\"late_returns\"),\n",
    "    )\n",
    "    .orderBy(desc(\"late_returns\"))\n",
    ")\n",
    "gender_occupation_education_df = gender_occupation_education_df.withColumn(\n",
    "    \"percentage_late_returns\",\n",
    "    lit(\n",
    "        calculate_percentage(\n",
    "            total_late_returns_per_gender_education_occupation, col(\n",
    "                \"late_returns\")\n",
    "        )\n",
    "    ),\n",
    ")\n",
    "\n",
    "print(total_late_returns_per_gender_education_occupation)\n",
    "gender_occupation_education_df.show()"
   ]
  },
  {
   "cell_type": "code",
   "execution_count": null,
   "metadata": {},
   "outputs": [],
   "source": [
    "day_of_week_checkout_df = late_returns_df.withColumn(\n",
    "    \"day_of_the_week\", date_format(\"date_checkout\", \"EEEE\")\n",
    ")\n",
    "total_late_returns_per_day_of_week = day_of_week_checkout_df.count()\n",
    "\n",
    "day_of_week_checkout_df = (\n",
    "    day_of_week_checkout_df.groupBy(\"day_of_the_week\")\n",
    "    .count()\n",
    "    .select(\"day_of_the_week\", col(\"count\").alias(\"late_returns\"))\n",
    "    .orderBy(desc(\"late_returns\"))\n",
    ")\n",
    "day_of_week_checkout_df = day_of_week_checkout_df.withColumn(\n",
    "    \"percentage_late_returns\",\n",
    "    lit(\n",
    "        calculate_percentage(\n",
    "            total_late_returns_per_day_of_week, col(\"late_returns\")\n",
    "        )\n",
    "    ),\n",
    ")\n",
    "\n",
    "print(total_late_returns_per_day_of_week)\n",
    "day_of_week_checkout_df.show()"
   ]
  },
  {
   "cell_type": "code",
   "execution_count": null,
   "metadata": {},
   "outputs": [],
   "source": [
    "month_checkout_df = late_returns_df.withColumn(\n",
    "    \"month\", date_format(\"date_checkout\", \"MMMM\")\n",
    ")\n",
    "total_late_returns_per_month = month_checkout_df.count()\n",
    "\n",
    "month_checkout_df = (\n",
    "    month_checkout_df.groupBy(\"month\")\n",
    "    .count()\n",
    "    .select(\"month\", col(\"count\").alias(\"late_returns\"))\n",
    "    .orderBy(desc(\"late_returns\"))\n",
    ")\n",
    "month_checkout_df = month_checkout_df.withColumn(\n",
    "    \"percentage_late_returns\",\n",
    "    lit(\n",
    "        calculate_percentage(\n",
    "            total_late_returns_per_month, col(\"late_returns\")\n",
    "        )\n",
    "    ),\n",
    ")\n",
    "\n",
    "print(total_late_returns_per_month)\n",
    "month_checkout_df.show()"
   ]
  }
 ],
 "metadata": {
  "kernelspec": {
   "display_name": "Python 3",
   "language": "python",
   "name": "python3"
  },
  "language_info": {
   "codemirror_mode": {
    "name": "ipython",
    "version": 3
   },
   "file_extension": ".py",
   "mimetype": "text/x-python",
   "name": "python",
   "nbconvert_exporter": "python",
   "pygments_lexer": "ipython3",
   "version": "3.10.4"
  }
 },
 "nbformat": 4,
 "nbformat_minor": 2
}
