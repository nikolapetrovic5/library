{
 "cells": [
  {
   "cell_type": "markdown",
   "metadata": {},
   "source": [
    "### Imports."
   ]
  },
  {
   "cell_type": "code",
   "execution_count": 60,
   "metadata": {},
   "outputs": [],
   "source": [
    "import os\n",
    "\n",
    "import pyspark\n",
    "from pyspark.sql import SparkSession\n",
    "\n",
    "from pyspark.sql.functions import to_date, from_json, regexp_replace, col, when, trim, lower, initcap, explode_outer, datediff, desc, split\n",
    "from pyspark.sql.types import StringType, DecimalType, LongType, ArrayType"
   ]
  },
  {
   "cell_type": "markdown",
   "metadata": {},
   "source": [
    "### Run shared notebook to be able to use shared utilities."
   ]
  },
  {
   "cell_type": "code",
   "execution_count": 61,
   "metadata": {},
   "outputs": [
    {
     "name": "stdout",
     "output_type": "stream",
     "text": [
      "Requirement already satisfied: PyYAML in c:\\users\\nikola\\appdata\\local\\programs\\python\\python310\\lib\\site-packages (6.0.2)\n",
      "Note: you may need to restart the kernel to use updated packages.\n"
     ]
    },
    {
     "name": "stderr",
     "output_type": "stream",
     "text": [
      "\n",
      "[notice] A new release of pip is available: 24.0 -> 24.3.1\n",
      "[notice] To update, run: python.exe -m pip install --upgrade pip\n"
     ]
    }
   ],
   "source": [
    "%run .//shared//load_yaml_config.ipynb"
   ]
  },
  {
   "cell_type": "markdown",
   "metadata": {},
   "source": [
    "### Configurations."
   ]
  },
  {
   "cell_type": "code",
   "execution_count": 62,
   "metadata": {},
   "outputs": [
    {
     "name": "stdout",
     "output_type": "stream",
     "text": [
      "C:\\Users\\Nikola\\Downloads\\library_data\\customers.csv\n",
      "C:\\Users\\Nikola\\Downloads\\library_data\\libraries.csv\n",
      "C:\\Users\\Nikola\\Downloads\\library_data\\checkouts.csv\n",
      "C:\\Users\\Nikola\\Downloads\\library_data\\books.csv\n",
      "{'header': 'true', 'delimiter': ',', 'inferSchema': 'true'}\n",
      "28\n"
     ]
    }
   ],
   "source": [
    "config = load_configs()\n",
    "\n",
    "source_dir = config[\"data\"][\"source_dir\"]\n",
    "customer_file = config[\"data\"][\"customers_file\"]\n",
    "libraries_file = config[\"data\"][\"libraries_file\"]\n",
    "checkouts_file = config[\"data\"][\"checkouts_file\"]\n",
    "books_file = config[\"data\"][\"books_file\"]\n",
    "csv_read_options = config[\"spark_csv_read_options\"]\n",
    "return_limit_in_days = config[\"data\"][\"return_limit_in_days\"]\n",
    "\n",
    "customers_path = os.path.join(source_dir, customer_file)\n",
    "libraries_path = os.path.join(source_dir, libraries_file)\n",
    "checkouts_path = os.path.join(source_dir, checkouts_file)\n",
    "books_path = os.path.join(source_dir, books_file)\n",
    "\n",
    "print(customers_path)\n",
    "print(libraries_path)\n",
    "print(checkouts_path)\n",
    "print(books_path)\n",
    "print(csv_read_options)\n",
    "print(return_limit_in_days)"
   ]
  },
  {
   "cell_type": "markdown",
   "metadata": {},
   "source": [
    "### Build spark session."
   ]
  },
  {
   "cell_type": "code",
   "execution_count": 63,
   "metadata": {},
   "outputs": [],
   "source": [
    "conf = pyspark.SparkConf()\n",
    "spark = SparkSession.builder.appName(\"library_book_late_analysis\").master(\n",
    "    \"local\").config(conf=conf).getOrCreate()"
   ]
  },
  {
   "cell_type": "markdown",
   "metadata": {},
   "source": [
    "### Read raw data."
   ]
  },
  {
   "cell_type": "code",
   "execution_count": 64,
   "metadata": {},
   "outputs": [],
   "source": [
    "customers_raw_df = spark.read.format(\"csv\").options(**csv_read_options).load(customers_path)\n",
    "books_raw_df = spark.read.format(\"csv\").options(**csv_read_options).load(books_path)\n",
    "checkouts_raw_df = spark.read.format(\"csv\").options(**csv_read_options).load(checkouts_path)\n",
    "libraries_raw_df = spark.read.format(\"csv\").options(**csv_read_options).load(libraries_path)"
   ]
  },
  {
   "cell_type": "markdown",
   "metadata": {},
   "source": [
    "### Function definitions."
   ]
  },
  {
   "cell_type": "code",
   "execution_count": 65,
   "metadata": {},
   "outputs": [],
   "source": [
    "\"\"\"\n",
    "Input arguments:\n",
    "    1. df (DataFrame) - Dataframe on which we perform action.\n",
    "\n",
    "Output:\n",
    "    1. df (DataFrame) - Returns modified dataframe.\n",
    "\n",
    "Description:\n",
    "    This function strips all white spaces on the right and the left side of a string and also,\n",
    "    replace multiple whitespaces between words with a single whitespace.\n",
    "\"\"\"\n",
    "\n",
    "\n",
    "def trim_white_spaces_from_df(df):\n",
    "    for field in df.dtypes:\n",
    "        column_name = field[0]\n",
    "        column_type = field[1]\n",
    "\n",
    "        if column_type != \"string\":\n",
    "            continue\n",
    "\n",
    "        df = df.withColumn(column_name, trim(column_name)).withColumn(\n",
    "            column_name, regexp_replace(column_name, \"\\s+\", \" \")\n",
    "        )\n",
    "    return df"
   ]
  },
  {
   "cell_type": "code",
   "execution_count": 66,
   "metadata": {},
   "outputs": [],
   "source": [
    "\"\"\"\n",
    "Input arguments:\n",
    "    1. df (DataFrame) - Dataframe on which we perform action.\n",
    "    2. perfix (str) - Will be added at the begining of every column name except id.\n",
    "\n",
    "Output:\n",
    "    1. df (DataFrame) - Returns modified dataframe.\n",
    "\n",
    "Description:\n",
    "    This function is used to rename columns before performing merge of the data between Libraries, Checkouts and Customers.\n",
    "    In order to be able to manipulate with data, since Libraries and Customers have the same name for few columns.\n",
    "    The only exception made is with 'id' column because Checkouts table has prefix already added to foreign key (library_id).\n",
    "\"\"\"\n",
    "\n",
    "\n",
    "def append_prefix_to_column_name(df, prefix: str):\n",
    "    for column_name in df.columns:\n",
    "        if column_name == \"id\":\n",
    "            continue\n",
    "\n",
    "        new_column_name = f\"{prefix}_{column_name}\"\n",
    "        df = df.withColumnRenamed(column_name, new_column_name)\n",
    "\n",
    "    return df"
   ]
  },
  {
   "cell_type": "markdown",
   "metadata": {},
   "source": [
    "### Checkouts collection data cleaning."
   ]
  },
  {
   "cell_type": "code",
   "execution_count": 67,
   "metadata": {},
   "outputs": [
    {
     "name": "stdout",
     "output_type": "stream",
     "text": [
      "2000\n",
      "+------------+--------------------+-------------------+-------------+-------------+\n",
      "|          id|           patron_id|         library_id|date_checkout|date_returned|\n",
      "+------------+--------------------+-------------------+-------------+-------------+\n",
      "|-xFj0vTLbRIC|b071c9c68228a2b1d...|225-222@5xc-jtz-hkf|   2019-01-28|   2018-11-13|\n",
      "|HUX-y4oXl04C|8d3f63e1deed89d7b...|223-222@5xc-jxr-tgk|   2018-05-29|   2018-06-12|\n",
      "|TQpFnkku2poC|4ae202f8de7625917...|228-222@5xc-jtz-hwk|   2018-11-23|   2019-01-24|\n",
      "|OQ6sDwAAQBAJ|f9372de3c8ea50160...|23v-222@5xc-jv7-v4v|   2018-01-15|   2018-04-25|\n",
      "|7T9-BAAAQBAJ|2cf3cc3b9e9f6c608...|225-222@5xc-jtz-hkf|   2018-12-31|   1804-01-23|\n",
      "|iGoXAQAAMAAJ|80f93362e97d9f610...|22c-222@5xc-jwj-pvz|   2018-04-07|   1815-08-11|\n",
      "|CW-7tHAaVR0C|dd9f34e9d65126a2b...|22c-222@5xc-jwj-pvz|   2018-01-10|   2018-02-04|\n",
      "|Cr74DwAAQBAJ|69a2fbbf7aaad8ac0...|23v-222@5xc-jv7-v4v|   2106-02-26|   2018-12-10|\n",
      "|t1e3BWziAc8C|3b85b2c7b424618f5...|222-222@5xc-jv5-nt9|   2018-06-23|   2018-07-14|\n",
      "|2mtCAAAAYAAJ|365ab35282c5d61b3...|228-222@5xc-jtz-hwk|   2018-08-07|   2018-08-25|\n",
      "|BTCUDwAAQBAJ|24e7301ed042acfdd...|227-222@5xc-jww-btv|   2018-10-05|   2018-10-31|\n",
      "|MOewp6bCFfgC|7fd53f66a6d4cd128...|223-222@5xc-jxr-tgk|   2018-04-30|   2018-08-30|\n",
      "|H31XAAAAMAAJ|29dbdfe6a3b7df19b...|23v-222@5xc-jv7-v4v|   2018-04-09|   2018-04-19|\n",
      "|p2C0y3hbe5EC|96aa3f310b38bbe8e...|zzw-222@5xc-knn-c5z|   2018-01-01|   2018-03-05|\n",
      "|krW85fjSjR8C|36255d04094d17b41...|224-222@5xc-jw2-t9z|   2018-06-18|   2018-06-23|\n",
      "|VL0QGySiaDMC|abd2d3be496cc37bd...|zzw-222@5xc-knn-c5z|   2018-04-25|   2018-05-03|\n",
      "|9q1LAQAAIAAJ|f8a72c6a5966f9615...|226-222@5xc-kc4-fpv|   2018-02-19|   2018-02-27|\n",
      "|2uuX1zhTFakC|4d83f0f2d9a86128c...|222-222@5xc-jv5-nt9|   2018-08-12|   2018-08-28|\n",
      "|ZjZOAAAAMAAJ|1342d5bb4ef4cd800...|23v-222@5xc-jv7-v4v|   2018-02-28|   2018-03-10|\n",
      "|BdxRAQAAMAAJ|ca6449c11078de33a...|zzw-223@5xc-jv7-ct9|   2018-01-04|   2018-01-26|\n",
      "+------------+--------------------+-------------------+-------------+-------------+\n",
      "only showing top 20 rows\n",
      "\n"
     ]
    }
   ],
   "source": [
    "checkouts_df = trim_white_spaces_from_df(checkouts_raw_df)\n",
    "\n",
    "# Cast string to dates columns\n",
    "checkouts_df = checkouts_df.withColumn(\n",
    "    \"date_checkout\", to_date(\"date_checkout\", \"yyyy-MM-dd\")\n",
    ").withColumn(\"date_returned\", to_date(\"date_returned\", \"yyyy-MM-dd\"))\n",
    "\n",
    "print(checkouts_df.count())\n",
    "checkouts_df.show()"
   ]
  },
  {
   "cell_type": "markdown",
   "metadata": {},
   "source": [
    "### Books collection data cleaning."
   ]
  },
  {
   "cell_type": "code",
   "execution_count": 68,
   "metadata": {},
   "outputs": [
    {
     "name": "stdout",
     "output_type": "stream",
     "text": [
      "329\n",
      "+------------+--------------------+--------------------+--------------------+-------------------+--------------------+------+-----+\n",
      "|          id|               title|             authors|           publisher|     published_date|          categories| price|pages|\n",
      "+------------+--------------------+--------------------+--------------------+-------------------+--------------------+------+-----+\n",
      "|hVFwAAAAQBAJ|Ogilvy on Adverti...|        David Ogilvy|             Vintage|2013-09-11 00:00:00|      Social Science| 72.99|  320|\n",
      "|bRY9AAAAYAAJ|Foreign Publicati...|United States. Bu...|                null|1913-01-01 00:00:00|         Advertising|469.99|  654|\n",
      "|ZapAAAAAIAAJ|Advertising and t...|      John A. Howard|                null|1973-01-01 00:00:00|         Advertising|372.00|  784|\n",
      "|ZapAAAAAIAAJ|Advertising and t...|       James Hulbert|                null|1973-01-01 00:00:00|         Advertising|372.00|  784|\n",
      "|A-HthMfF5moC|Profitable Advert...|                null|                null|1894-01-01 00:00:00|         Advertising|240.99|  559|\n",
      "|4Z9JAAAAMAAJ|Report of the Fed...|United States. Fe...|                null|1944-01-01 00:00:00|Government public...|539.00|  757|\n",
      "|K5SYITH0vRIC|Advertising of Al...|United States. Co...|                null|1956-01-01 00:00:00|                null|484.50|  682|\n",
      "|TH8SSrWcVQ4C|Advertising Your ...|                null|                null|1984-01-01 00:00:00|         Advertising|400.99|  635|\n",
      "|ZjZOAAAAMAAJ|Library of Advert...| Axel Petrus Johnson|                null|1911-01-01 00:00:00|         Advertising| 35.99|  428|\n",
      "|uFy7zQEACAAJ|         Advertising|      Roderick White|                null|1980-01-01 00:00:00|         Advertising|438.50|  569|\n",
      "|mR9eAgAAQBAJ|Negative Politica...|Karen S. Johnson-...|           Routledge|2013-12-16 00:00:00|                null|311.99|  640|\n",
      "|mR9eAgAAQBAJ|Negative Politica...|       Gary Copeland|           Routledge|2013-12-16 00:00:00|                null|311.99|  640|\n",
      "|hCVACwAAQBAJ|The Psychology of...|       Bob M. Fennis|    Psychology Press|2015-12-22 00:00:00|          Psychology|205.00|  526|\n",
      "|hCVACwAAQBAJ|The Psychology of...|    Wolfgang Stroebe|    Psychology Press|2015-12-22 00:00:00|          Psychology|205.00|  526|\n",
      "|1Gc_SPKCZY8C|Control of Advert...|United States. Co...|                null|1957-01-01 00:00:00|                null|400.99|  669|\n",
      "|P1AoDwAAQBAJ|Reality In Advert...|       Rosser Reeves|            Lulu.com|2017-06-09 00:00:00|                null|384.00|  506|\n",
      "|DT2UBgAAQBAJ|    The Devil's Grin|   Annelie Wendeberg|   Annelie Wendeberg|2015-02-09 00:00:00|             Fiction|  null|  730|\n",
      "|rcRfT5Doh1kC|         Advertising|              Murthy|   Excel Books India|2009-01-01 00:00:00|         Advertising|376.99|  707|\n",
      "|eLgobuBJQXYC|Advertising Manag...|      Manendra Mohan|Tata McGraw-Hill ...|1989-01-01 00:00:00|         Advertising|375.50|  583|\n",
      "|trqPlpLpjyAC|Advertising Manag...|               Batra|Pearson Education...|2009-01-01 00:00:00|         Advertising|479.99|  514|\n",
      "+------------+--------------------+--------------------+--------------------+-------------------+--------------------+------+-----+\n",
      "only showing top 20 rows\n",
      "\n"
     ]
    }
   ],
   "source": [
    "books_df = trim_white_spaces_from_df(books_raw_df)\n",
    "\n",
    "# Remove everything but numbers and dot from price column\n",
    "# Remove everything but numbers from pages column\n",
    "books_df = (\n",
    "    books_df.withColumn(\"price\", regexp_replace(\"price\", \"[^\\d\\.]\", \"\"))\n",
    "    .withColumn(\"pages\", regexp_replace(\"pages\", \"[^\\d]\", \"\"))\n",
    ")\n",
    "\n",
    "books_df = books_df.withColumn(\n",
    "    \"categories\",\n",
    "    when(\n",
    "        col(\"categories\").contains(\"&\"), regexp_replace(\"categories\", \"&\", \"','\")\n",
    "    ).otherwise(col(\"categories\")),\n",
    ")\n",
    "\n",
    "books_df = books_df.withColumn(\n",
    "    \"categories\",\n",
    "    when(\n",
    "        col(\"categories\").contains(\",\"), regexp_replace(\"categories\", \",\", \"','\")\n",
    "    ).otherwise(col(\"categories\")),\n",
    ")\n",
    "\n",
    "# Cast columns to correct data type\n",
    "# Explode on authors and categories\n",
    "# Rename column to snake case\n",
    "books_df = (\n",
    "    books_df.withColumn(\"authors\", from_json(\"authors\", ArrayType(StringType())))\n",
    "    .withColumn(\"categories\", from_json(\"categories\", ArrayType(StringType())))\n",
    "    .withColumn(\"pages\", col(\"pages\").cast(LongType()))\n",
    "    .withColumn(\"price\", col(\"price\").cast(DecimalType(precision=10, scale=2)))\n",
    "    .withColumn(\"authors\", explode_outer(col(\"authors\")))\n",
    "    .withColumn(\"categories\", explode_outer(col(\"categories\")))\n",
    "    .withColumnRenamed(\"publishedDate\", \"published_date\")\n",
    ")\n",
    "\n",
    "books_df = trim_white_spaces_from_df(books_df)\n",
    "\n",
    "print(books_df.count())\n",
    "books_df.show()"
   ]
  },
  {
   "cell_type": "markdown",
   "metadata": {},
   "source": [
    "### Customers collection data cleaning."
   ]
  },
  {
   "cell_type": "code",
   "execution_count": 69,
   "metadata": {},
   "outputs": [
    {
     "name": "stdout",
     "output_type": "stream",
     "text": [
      "2000\n",
      "+--------------------+------------------+--------------------+------------+----------+-------+-------------------+------+---------------+------------------+\n",
      "|                  id|              name|      street_address|        city|     state|zipcode|         birth_date|gender|      education|        occupation|\n",
      "+--------------------+------------------+--------------------+------------+----------+-------+-------------------+------+---------------+------------------+\n",
      "|df83ec2d0d409395c...| Cynthia Barnfield|     44 NE Meikle Pl|    Portland|    Oregon|  97213|2009-09-10 00:00:00|female|    High School|              null|\n",
      "|6aec7ab2ea0d67161...|   Elizabeth Smith| 7511 SE Harrison St|    Portland|    Oregon|  97215|1956-12-15 00:00:00|female|        College|       Blue Collar|\n",
      "|0c54340672f510fdb...|     Richard Pabla|     1404 SE Pine St|    Portland|    Oregon|  97214|1960-12-18 00:00:00|  male|        College|Education & Health|\n",
      "|f0d9ce833ddc1f73c...|     Charles Baker|12271 N Westshore Dr|    Portland|    Oregon|  97217|2105-07-19 00:00:00|  male|Graduate Degree|             Sales|\n",
      "|3720379163f6b4694...|      Ronald Lydon| 5321 NE Skyport Way|        null|    Oregon|  97218|1961-03-14 00:00:00|  male|Graduate Degree|       Blue Collar|\n",
      "|8380f7f05a183e9b1...|     Katherine Bax|    4106 NE 69th Ave|    Portland|    Oregon|  97218|1990-10-06 00:00:00|female|Graduate Degree|              Tech|\n",
      "|5b54076ff51088b8c...|Christine Hermreck|    1856 NE 84th Ave|    Portland|    Oregon|  97220|2009-05-27 00:00:00|female|        College|Education & Health|\n",
      "|0b585fb06695db334...|    Jeffrey Snyder|  11440 SE Aquila St|Happy Valley|    Oregon|  97086|1956-10-17 00:00:00|  male|    High School|             Sales|\n",
      "|bfc7e857c666777a3...|      Marco Royals|  1731 NW Everett St|    Portland|    Oregon|  97209|1980-09-13 00:00:00|  male|Graduate Degree|Education & Health|\n",
      "|7fd53f66a6d4cd128...|      Travis Hardy|    636 SE 154th Ave|    Portland|    Oregon|  97233|1803-04-20 00:00:00|  male|        College|             Sales|\n",
      "|a407f60337af8e554...|     Peter Watkins|1847 SW Englewood Dr| Lake Oswego|    Oregon|  97034|2102-12-05 00:00:00|  male|Graduate Degree|       Blue Collar|\n",
      "|d6f5b9cccb7bc5871...|      Jacob Pardee|   10257 NE 20th Cir|   Vancouver|Washington|  98664|2008-01-31 00:00:00|  male|         Others|            Others|\n",
      "|1499d9170b881d4ae...|    Vasiliki Smith|   9559 SW 171st Ave|   Beaverton|      null|  97007|1977-03-04 00:00:00|female|         Others|              Tech|\n",
      "|93a81699555ae3666...|      William Fell| 6922 SE Brooklyn St|    Portland|    Oregon|  97206|1971-06-10 00:00:00|  male|Graduate Degree|       Blue Collar|\n",
      "|6ae9e75a19de4c5f7...|    Jonathan Bonds|   13999 NW Hogan St|    Portland|    Oregon|  97229|1951-07-29 00:00:00|  male|        College|Business & Finance|\n",
      "|59f403406fe6523ab...|      John Milkins|   16907 SW 72nd Ave|    Portland|    Oregon|  97224|2108-11-02 00:00:00|  male|    High School|            Others|\n",
      "|bb6f56906058b6d66...|       Eva Sommers|  1950 NW Raleigh St|    Portland|    Oregon|  97209|1807-05-24 00:00:00|female|        College|Business & Finance|\n",
      "|93f33699e2e5af1df...|       Dena Taylor|   1564 NE 137th Ave|    Portland|    Oregon|  97230|1997-06-13 00:00:00|female|         Others|              Tech|\n",
      "|376119222670aee3b...|    Ronald Cedillo| 3458 NE Peerless Pl|    Portland|    Oregon|  97232|1986-05-20 00:00:00|  null|    High School|Education & Health|\n",
      "|f870d2740d4c7ed91...|      Soledad Wade|8256 NW Leif Eric...|    Portland|    Oregon|  97210|1974-03-24 00:00:00|female|Graduate Degree|             Sales|\n",
      "+--------------------+------------------+--------------------+------------+----------+-------+-------------------+------+---------------+------------------+\n",
      "only showing top 20 rows\n",
      "\n"
     ]
    }
   ],
   "source": [
    "customers_df = trim_white_spaces_from_df(customers_raw_df)\n",
    "\n",
    "# Remove everything but numbers and dots from zipcode to get number without decimals\n",
    "# Cast columns and apply initcap which makes first letter upper case of every word\n",
    "customers_df = (\n",
    "    customers_df.withColumn(\"zipcode\", regexp_replace(\"zipcode\", \"[^\\d\\.]\", \"\"))\n",
    "    .withColumn(\"zipcode\", col(\"zipcode\").cast(LongType()))\n",
    "    .withColumn(\"city\", initcap(\"city\"))\n",
    "    .withColumn(\"name\", initcap(\"name\"))\n",
    "    .withColumn(\"education\", initcap(\"education\"))\n",
    "    .withColumn(\"state\", initcap(\"state\"))\n",
    "    .withColumn(\"gender\", lower(col(\"gender\")))\n",
    "    .withColumn(\"occupation\", initcap(\"occupation\"))\n",
    ")\n",
    "\n",
    "print(customers_df.count())\n",
    "customers_df.show()"
   ]
  },
  {
   "cell_type": "markdown",
   "metadata": {},
   "source": [
    "### Libraries collection data cleaning."
   ]
  },
  {
   "cell_type": "code",
   "execution_count": 70,
   "metadata": {},
   "outputs": [
    {
     "name": "stdout",
     "output_type": "stream",
     "text": [
      "18\n",
      "+-------------------+--------------------+--------------------+--------+------+-----------+\n",
      "|                 id|                name|      street_address|    city|region|postal_code|\n",
      "+-------------------+--------------------+--------------------+--------+------+-----------+\n",
      "|226-222@5xc-kc4-fpv|Multnomah County ...|10723 SW capitol Hwy|Portland|    or|      97219|\n",
      "|23v-222@5xc-jv7-v4v|Multnomah County ...|  2300 NW Thurman St|    null|    or|       null|\n",
      "|222-222@5xc-jvf-skf|Multnomah County ...|7510 N Charleston...|Portland|    or|      97203|\n",
      "|227-222@5xc-jww-btv|Multnomah County ...| 1525 SW Sunset blvd|Portland|    or|      97239|\n",
      "|22d-222@5xc-kcy-8sq|Multnomah County ...|    7860 SE 13th AVE|Portland|    or|      97202|\n",
      "|223-222@5xc-jxr-tgk|MULTNOMAH County ...|    6008 se 49TH AVE|Portland|    or|      97206|\n",
      "|zzw-224@5xc-jwv-2rk|Multnomah County ...|     801 SW 10th Ave|Portland|  null|      97205|\n",
      "|zzw-223@5xc-jv7-ct9|Friends OF the mu...|      522 SW 5th Ave|    null|    or|      97204|\n",
      "|226-222@5xc-jxj-7yv|Multnomah County ...|1038 SE CESAR E C...|Portland|    or|      97214|\n",
      "|zzw-222@5xc-knn-c5z|Multnomah County ...|7905 SE Holgate Blvd|Portland|    or|       null|\n",
      "|222-222@5xc-kkw-bzf|MULTNOMAH County ...|    805 SE 122nd Ave|Portland|    or|      97233|\n",
      "|228-222@5xc-jtz-hwk|Multnomah County ...|   205 NE Russell St|    null|  null|      97212|\n",
      "|225-222@5xc-jtz-hkf|MULTNOMAH County ...|     216 ne Knott st|    null|    or|       null|\n",
      "|222-222@5xc-jv5-nt9|Multnomah County ...|512 N Killingswor...|Portland|    or|      97217|\n",
      "|zzw-222@5xc-jv4-789|Multnomah County ...|    3605 NE 15th Ave|Portland|    or|      97212|\n",
      "|222-222@5xc-jxp-rp9|Multnomah County ...|4040 NE Tillamook St|Portland|    or|      97212|\n",
      "|22c-222@5xc-jwj-pvz|MULTNOMAH County ...|   8226 N DENVER Ave|Portland|    or|      97217|\n",
      "|224-222@5xc-jw2-t9z|Multnomah COUNTY ...|  7921 NE sandy BLVD|Portland|    or|      97213|\n",
      "+-------------------+--------------------+--------------------+--------+------+-----------+\n",
      "\n"
     ]
    }
   ],
   "source": [
    "libraries_df = trim_white_spaces_from_df(libraries_raw_df)\n",
    "\n",
    "# Remove everything but numbers and dots from postal_code to get number without decimals\n",
    "# Cast columns and apply initcap which makes first letter upper case of every word\n",
    "libraries_df = (\n",
    "    libraries_df.withColumn(\"region\", lower(col(\"region\")))\n",
    "    .withColumn(\"postal_code\", regexp_replace(\"postal_code\", \"[^\\d\\.]\", \"\"))\n",
    "    .withColumn(\"postal_code\", col(\"postal_code\").cast(LongType()))\n",
    "    .withColumn(\"city\", initcap(\"city\"))\n",
    ")\n",
    "\n",
    "print(libraries_df.count())\n",
    "libraries_df.show()"
   ]
  },
  {
   "cell_type": "markdown",
   "metadata": {},
   "source": [
    "### Merge data into single dataframe."
   ]
  },
  {
   "cell_type": "code",
   "execution_count": null,
   "metadata": {},
   "outputs": [
    {
     "name": "stdout",
     "output_type": "stream",
     "text": [
      "+------------+--------------------+-------------------+-------------+-------------+--------------------+----------------------+------------+--------------+-------------------+-----------------+-----------------------+-------------+--------------+----------------+-------------------+---------------+------------------+-------------------+---------+\n",
      "| checkout_id|           patron_id|         library_id|date_checkout|date_returned|        library_name|library_street_address|library_city|library_region|library_postal_code|    customer_name|customer_street_address|customer_city|customer_state|customer_zipcode|customer_birth_date|customer_gender|customer_education|customer_occupation|days_kept|\n",
      "+------------+--------------------+-------------------+-------------+-------------+--------------------+----------------------+------------+--------------+-------------------+-----------------+-----------------------+-------------+--------------+----------------+-------------------+---------------+------------------+-------------------+---------+\n",
      "|-xFj0vTLbRIC|b071c9c68228a2b1d...|225-222@5xc-jtz-hkf|   2019-01-28|   2018-11-13|MULTNOMAH County ...|       216 ne Knott st|        null|            or|               null|  Rachelle Miller|          73 NE Cook St|     Portland|        Oregon|           97212|               null|         female|              null|               Tech|      -76|\n",
      "|HUX-y4oXl04C|8d3f63e1deed89d7b...|223-222@5xc-jxr-tgk|   2018-05-29|   2018-06-12|MULTNOMAH County ...|      6008 se 49TH AVE|    Portland|            or|              97206|   Jeanette Nelms|       4942 SE 28th Ave|     Portland|        Oregon|           97202|1965-01-24 00:00:00|         female|   Graduate Degree|               Tech|       14|\n",
      "|TQpFnkku2poC|4ae202f8de7625917...|228-222@5xc-jtz-hwk|   2018-11-23|   2019-01-24|Multnomah County ...|     205 NE Russell St|        null|          null|              97212|   Melvin Jackson|   2821 NE Klickitat St|     Portland|        Oregon|           97212|1963-11-04 00:00:00|           male|   Graduate Degree| Education & Health|       62|\n",
      "|OQ6sDwAAQBAJ|f9372de3c8ea50160...|23v-222@5xc-jv7-v4v|   2018-01-15|   2018-04-25|Multnomah County ...|    2300 NW Thurman St|        null|            or|               null|      James Klein|       1720 N Shaver St|     Portland|        Oregon|           97227|2119-02-10 00:00:00|           male|   Graduate Degree|              Sales|      100|\n",
      "|7T9-BAAAQBAJ|2cf3cc3b9e9f6c608...|225-222@5xc-jtz-hkf|   2018-12-31|   1804-01-23|MULTNOMAH County ...|       216 ne Knott st|        null|            or|               null|     Lani Alvarez|     7845 NE Alberta St|     Portland|        Oregon|           97218|2103-05-19 00:00:00|         female|            Others| Business & Finance|   -78505|\n",
      "|iGoXAQAAMAAJ|80f93362e97d9f610...|22c-222@5xc-jwj-pvz|   2018-04-07|   1815-08-11|MULTNOMAH County ...|     8226 N DENVER Ave|    Portland|            or|              97217|    Annie Johnson|       8173 N Marine Dr|     Portland|        Oregon|           97203|1984-10-16 00:00:00|         female|              null|              Sales|   -74019|\n",
      "|CW-7tHAaVR0C|dd9f34e9d65126a2b...|22c-222@5xc-jwj-pvz|   2018-01-10|   2018-02-04|MULTNOMAH County ...|     8226 N DENVER Ave|    Portland|            or|              97217|    Gary Sullivan|      6614 N Wilbur Ave|     Portland|        Oregon|           97217|1984-07-27 00:00:00|           male|   Graduate Degree| Education & Health|       25|\n",
      "|Cr74DwAAQBAJ|69a2fbbf7aaad8ac0...|23v-222@5xc-jv7-v4v|   2106-02-26|   2018-12-10|Multnomah County ...|    2300 NW Thurman St|        null|            or|               null|      Larry Green|      4759 SW Slavin Rd|     Portland|        Oregon|           97239|1964-08-04 00:00:00|           male|           College|               Tech|   -31854|\n",
      "|t1e3BWziAc8C|3b85b2c7b424618f5...|222-222@5xc-jv5-nt9|   2018-06-23|   2018-07-14|Multnomah County ...|  512 N Killingswor...|    Portland|            or|              97217|    Thomas Wilson|       2617 NE 33rd Ave|     Portland|        Oregon|           97212|1976-09-24 00:00:00|           male|       High School| Business & Finance|       21|\n",
      "|2mtCAAAAYAAJ|365ab35282c5d61b3...|228-222@5xc-jtz-hwk|   2018-08-07|   2018-08-25|Multnomah County ...|     205 NE Russell St|        null|          null|              97212|     Ethel Saylor|   5425 SE Lafayette St|     Portland|        Oregon|           97206|1967-09-03 00:00:00|         female|           College|               Tech|       18|\n",
      "|BTCUDwAAQBAJ|24e7301ed042acfdd...|227-222@5xc-jww-btv|   2018-10-05|   2018-10-31|Multnomah County ...|   1525 SW Sunset blvd|    Portland|            or|              97239|    Jane Schiller|        4960 SW 31st Dr|         null|        Oregon|           97239|1958-03-07 00:00:00|         female|           College|               null|       26|\n",
      "|MOewp6bCFfgC|7fd53f66a6d4cd128...|223-222@5xc-jxr-tgk|   2018-04-30|   2018-08-30|MULTNOMAH County ...|      6008 se 49TH AVE|    Portland|            or|              97206|     Travis Hardy|       636 SE 154th Ave|     Portland|        Oregon|           97233|1803-04-20 00:00:00|           male|           College|              Sales|      122|\n",
      "|H31XAAAAMAAJ|29dbdfe6a3b7df19b...|23v-222@5xc-jv7-v4v|   2018-04-09|   2018-04-19|Multnomah County ...|    2300 NW Thurman St|        null|            or|               null|   Shirley Carson|   3103 SW Fairview ...|     Portland|        Oregon|           97205|1975-07-29 00:00:00|         female|            Others| Business & Finance|       10|\n",
      "|p2C0y3hbe5EC|96aa3f310b38bbe8e...|zzw-222@5xc-knn-c5z|   2018-01-01|   2018-03-05|Multnomah County ...|  7905 SE Holgate Blvd|    Portland|            or|               null| Barbara Atherton|    8228 SE Division St|     Portland|        Oregon|           97266|1962-02-16 00:00:00|         female|   Graduate Degree| Education & Health|       63|\n",
      "|krW85fjSjR8C|36255d04094d17b41...|224-222@5xc-jw2-t9z|   2018-06-18|   2018-06-23|Multnomah COUNTY ...|    7921 NE sandy BLVD|    Portland|            or|              97213|       Kelly Meza|       5631 SE 28TH AVE|     Portland|        Oregon|           97202|1966-01-24 00:00:00|         female|            Others|               Tech|        5|\n",
      "|VL0QGySiaDMC|abd2d3be496cc37bd...|zzw-222@5xc-knn-c5z|   2018-04-25|   2018-05-03|Multnomah County ...|  7905 SE Holgate Blvd|    Portland|            or|               null|Emmett Lineberger|       2610 SE 92nd Ave|     Portland|        Oregon|           97266|1950-07-23 00:00:00|           male|       High School|              Sales|        8|\n",
      "|9q1LAQAAIAAJ|f8a72c6a5966f9615...|226-222@5xc-kc4-fpv|   2018-02-19|   2018-02-27|Multnomah County ...|  10723 SW capitol Hwy|    Portland|            or|              97219| Thomas Mcdonnell|   14230 SW Alpine C...|     Portland|        Oregon|           97224|1987-06-11 00:00:00|           male|   Graduate Degree|        Blue Collar|        8|\n",
      "|2uuX1zhTFakC|4d83f0f2d9a86128c...|222-222@5xc-jv5-nt9|   2018-08-12|   2018-08-28|Multnomah County ...|  512 N Killingswor...|    Portland|            or|              97217|Geraldine Behrens|     3624 N Leverman St|     Portland|          null|           97217|1980-05-29 00:00:00|         female|       High School|             Others|       16|\n",
      "|ZjZOAAAAMAAJ|1342d5bb4ef4cd800...|23v-222@5xc-jv7-v4v|   2018-02-28|   2018-03-10|Multnomah County ...|    2300 NW Thurman St|        null|            or|               null|   Royal Villegas|       1920 NW 18th Ave|         null|        Oregon|           97209|2002-01-25 00:00:00|           male|            Others|        Blue Collar|       10|\n",
      "|BdxRAQAAMAAJ|ca6449c11078de33a...|zzw-223@5xc-jv7-ct9|   2018-01-04|   2018-01-26|Friends OF the mu...|        522 SW 5th Ave|        null|            or|              97204|   David Mckinney|      4523 N Haight Ave|     Portland|        Oregon|           97217|1971-06-07 00:00:00|           male|   Graduate Degree|    Admin & Support|       22|\n",
      "+------------+--------------------+-------------------+-------------+-------------+--------------------+----------------------+------------+--------------+-------------------+-----------------+-----------------------+-------------+--------------+----------------+-------------------+---------------+------------------+-------------------+---------+\n",
      "only showing top 20 rows\n",
      "\n"
     ]
    }
   ],
   "source": [
    "checkouts_df = checkouts_df.withColumnRenamed(\"id\", \"checkout_id\")\n",
    "libraries_df = append_prefix_to_column_name(df=libraries_df, prefix=\"library\")\n",
    "\n",
    "library_checkouts = checkouts_df.join(\n",
    "    libraries_df, on=checkouts_df.library_id == libraries_df.id, how=\"inner\"\n",
    ").drop(\"id\")\n",
    "\n",
    "customers_df = append_prefix_to_column_name(df=customers_df, prefix=\"customer\")\n",
    "\n",
    "final_df = library_checkouts.join(\n",
    "    customers_df, on=library_checkouts.patron_id == customers_df.id, how=\"inner\").drop(\"id\")\n",
    "final_df = final_df.withColumn(\"days_kept\", datediff(\n",
    "    col(\"date_returned\"), col(\"date_checkout\")))\n",
    "\n",
    "final_df.show()"
   ]
  },
  {
   "cell_type": "markdown",
   "metadata": {},
   "source": [
    "### Filter data where books were returned equal or above return limit in days."
   ]
  },
  {
   "cell_type": "code",
   "execution_count": 72,
   "metadata": {},
   "outputs": [
    {
     "name": "stdout",
     "output_type": "stream",
     "text": [
      "+------------+--------------------+-------------------+-------------+-------------+--------------------+----------------------+------------+--------------+-------------------+------------------+-----------------------+-------------+--------------+----------------+-------------------+---------------+------------------+-------------------+---------+\n",
      "| checkout_id|           patron_id|         library_id|date_checkout|date_returned|        library_name|library_street_address|library_city|library_region|library_postal_code|     customer_name|customer_street_address|customer_city|customer_state|customer_zipcode|customer_birth_date|customer_gender|customer_education|customer_occupation|days_kept|\n",
      "+------------+--------------------+-------------------+-------------+-------------+--------------------+----------------------+------------+--------------+-------------------+------------------+-----------------------+-------------+--------------+----------------+-------------------+---------------+------------------+-------------------+---------+\n",
      "|TQpFnkku2poC|4ae202f8de7625917...|228-222@5xc-jtz-hwk|   2018-11-23|   2019-01-24|Multnomah County ...|     205 NE Russell St|        null|          null|              97212|    Melvin Jackson|   2821 NE Klickitat St|     Portland|        Oregon|           97212|1963-11-04 00:00:00|           male|   Graduate Degree| Education & Health|       62|\n",
      "|OQ6sDwAAQBAJ|f9372de3c8ea50160...|23v-222@5xc-jv7-v4v|   2018-01-15|   2018-04-25|Multnomah County ...|    2300 NW Thurman St|        null|            or|               null|       James Klein|       1720 N Shaver St|     Portland|        Oregon|           97227|2119-02-10 00:00:00|           male|   Graduate Degree|              Sales|      100|\n",
      "|MOewp6bCFfgC|7fd53f66a6d4cd128...|223-222@5xc-jxr-tgk|   2018-04-30|   2018-08-30|MULTNOMAH County ...|      6008 se 49TH AVE|    Portland|            or|              97206|      Travis Hardy|       636 SE 154th Ave|     Portland|        Oregon|           97233|1803-04-20 00:00:00|           male|           College|              Sales|      122|\n",
      "|p2C0y3hbe5EC|96aa3f310b38bbe8e...|zzw-222@5xc-knn-c5z|   2018-01-01|   2018-03-05|Multnomah County ...|  7905 SE Holgate Blvd|    Portland|            or|               null|  Barbara Atherton|    8228 SE Division St|     Portland|        Oregon|           97266|1962-02-16 00:00:00|         female|   Graduate Degree| Education & Health|       63|\n",
      "|pIIkAQAAMAAJ|fce6305084f5d1bb2...|222-222@5xc-jv5-nt9|   2018-02-06|   2018-06-20|Multnomah County ...|  512 N Killingswor...|    Portland|            or|              97217|      Tina Johnson|      6235 N Cutter Cir|     Portland|        Oregon|           97217|1987-04-09 00:00:00|         female|   Graduate Degree|              Sales|      134|\n",
      "|lMkmAQAAMAAJ|71f86bd14389f1641...|222-222@5xc-jxp-rp9|   2018-11-15|   2113-09-03|Multnomah County ...|  4040 NE Tillamook St|    Portland|            or|              97212|  Jeffery Mccleary|    5441 N Missouri Ave|     Portland|        Oregon|           97217|1961-06-25 00:00:00|           male|   Graduate Degree|        Blue Collar|    34625|\n",
      "|8MzgAQAACAAJ|b9e3ca68a68468de3...|227-222@5xc-jww-btv|   1807-07-25|   2018-08-27|Multnomah County ...|   1525 SW Sunset blvd|    Portland|            or|              97239|    Claude Hendren|     5006 SW Vermont St|     Portland|        Oregon|           97219|1972-02-23 00:00:00|           male|       High School|             Others|    77100|\n",
      "|9HOEMS9ffGgC|733c7d055041dc101...|22d-222@5xc-kcy-8sq|   1817-06-15|   2018-10-31|Multnomah County ...|      7860 SE 13th AVE|    Portland|            or|              97202|    Lawrence Dobbs|        9890 SE 53rd Pl|     Portland|        Oregon|           97222|1966-02-17 00:00:00|           male|            Others|    Admin & Support|    73552|\n",
      "|gM80AQAAMAAJ|5badc7b5021e3c11e...|222-222@5xc-jxp-rp9|   2018-07-04|   2018-08-26|Multnomah County ...|  4040 NE Tillamook St|    Portland|            or|              97212|           Lynn Wu|    3328 SW Barbur Blvd|     Portland|        Oregon|           97239|1977-11-11 00:00:00|         female|       High School|    Admin & Support|       53|\n",
      "|MOewp6bCFfgC|80e19da846928a347...|222-222@5xc-kkw-bzf|   2018-12-05|   2112-11-28|MULTNOMAH County ...|      805 SE 122nd Ave|    Portland|            or|              97233|    Danial Samples|      19493 NE Davis St|     Portland|        Oregon|           97230|2108-04-29 00:00:00|           male|       High School|        Blue Collar|    34326|\n",
      "|moG9m2rGrTUC|708464383124bdf35...|zzw-223@5xc-jv7-ct9|   2018-12-18|   2019-05-12|Friends OF the mu...|        522 SW 5th Ave|        null|            or|              97204|     Beth Ferreira|      10410 SW 41st Ave|     Portland|        Oregon|           97219|1979-11-01 00:00:00|         female|   Graduate Degree|             Others|      145|\n",
      "|yai7kyQfq1gC|3aa462b387906d160...|zzw-223@5xc-jv7-ct9|   2018-05-19|   2113-08-29|Friends OF the mu...|        522 SW 5th Ave|        null|            or|              97204|      Robert Lafon|     4249 SW Selling Ct|     Portland|        Oregon|           97221|               null|           male|   Graduate Degree|              Sales|    34800|\n",
      "|WBZ4DAAAQBAJ|f7ab6236ee75e9bf2...|222-222@5xc-jvf-skf|   1800-12-29|   2018-12-27|Multnomah County ...|  7510 N Charleston...|    Portland|            or|              97203|    Kathryn Dortch|   9001 N Columbia Blvd|     Portland|        Oregon|           97203|1960-09-15 00:00:00|         female|   Graduate Degree|    Admin & Support|    79621|\n",
      "|59sDAAAAMBAJ|3722cc0426107d39a...|22d-222@5xc-kcy-8sq|   1819-04-05|   2018-06-03|Multnomah County ...|      7860 SE 13th AVE|    Portland|            or|              97202|       Aaron Bliss|     1311 SW Vermont St|     Portland|        Oregon|           97219|1959-06-24 00:00:00|           male|   Graduate Degree|              Sales|    72743|\n",
      "|sxF-zkQY-NsC|ae8563fdcac2dd39c...|224-222@5xc-jw2-t9z|   2018-08-09|   2105-06-22|Multnomah COUNTY ...|    7921 NE sandy BLVD|    Portland|            or|              97213|      Tom Talarico|   2477 NE Columbia ...|     Portland|        Oregon|           97211|1967-01-15 00:00:00|           male|       High School|    Admin & Support|    31728|\n",
      "|nndUAAAAMAAJ|006ec5b8f21fba3c5...|225-222@5xc-jtz-hkf|   2018-12-08|   2019-03-31|MULTNOMAH County ...|       216 ne Knott st|        null|            or|               null|     James Gerving|      9020 SE Taylor St|     Portland|        Oregon|           97216|1965-03-26 00:00:00|           male|       High School|        Blue Collar|      113|\n",
      "|Oxw2AQAAMAAJ|e4a418c8c365ba88e...|222-222@5xc-jxp-rp9|   1801-09-23|   2018-04-18|Multnomah County ...|  4040 NE Tillamook St|    Portland|            or|              97212|        Jodi Smith|   9785 NE Glass Pla...|     Portland|        Oregon|           97220|1987-06-18 00:00:00|         female|   Graduate Degree|               null|    79100|\n",
      "|79QDAAAAMBAJ|5f54ea034526e63bf...|22c-222@5xc-jwj-pvz|   1804-07-22|   2018-12-13|MULTNOMAH County ...|     8226 N DENVER Ave|    Portland|            or|              97217|    Hope Zuckerman|          1449 Port Way|         null|    Washington|           98660|2006-04-03 00:00:00|         female|              null|    Admin & Support|    78306|\n",
      "|VL0QGySiaDMC|57125efdd2e7e4273...|zzw-224@5xc-jwv-2rk|   2018-06-07|   2117-10-10|Multnomah County ...|       801 SW 10th Ave|    Portland|          null|              97205|Shirley Stonehouse|      1050 NW Winter Ln|     Portland|        Oregon|           97210|1961-02-15 00:00:00|         female|            Others|              Sales|    36284|\n",
      "|oFWsXm1zZCcC|50b757c83da51ce64...|222-222@5xc-jv5-nt9|   1813-07-18|   2018-10-27|Multnomah County ...|  512 N Killingswor...|    Portland|            or|              97217|      Mary Vaniman|          2202 E 1st St|    Vancouver|    Washington|           98661|1991-08-06 00:00:00|         female|           College|             Others|    74976|\n",
      "+------------+--------------------+-------------------+-------------+-------------+--------------------+----------------------+------------+--------------+-------------------+------------------+-----------------------+-------------+--------------+----------------+-------------------+---------------+------------------+-------------------+---------+\n",
      "only showing top 20 rows\n",
      "\n"
     ]
    }
   ],
   "source": [
    "late_returns_df = final_df.filter(col(\"days_kept\") >= return_limit_in_days)\n",
    "late_returns_df.show()"
   ]
  },
  {
   "cell_type": "markdown",
   "metadata": {},
   "source": [
    "### Analysis."
   ]
  },
  {
   "cell_type": "code",
   "execution_count": 73,
   "metadata": {},
   "outputs": [
    {
     "name": "stdout",
     "output_type": "stream",
     "text": [
      "+-----------+-----+\n",
      "| first_name|count|\n",
      "+-----------+-----+\n",
      "|       John|    8|\n",
      "|    Richard|    6|\n",
      "|      James|    6|\n",
      "|      David|    6|\n",
      "|   Patricia|    5|\n",
      "|    William|    5|\n",
      "|      Jason|    5|\n",
      "|    Michael|    4|\n",
      "|    Timothy|    3|\n",
      "|     Joseph|    3|\n",
      "|    Shirley|    3|\n",
      "|      Frank|    3|\n",
      "|     Willie|    3|\n",
      "|     Robert|    3|\n",
      "|      Linda|    3|\n",
      "|     Walter|    3|\n",
      "|Christopher|    2|\n",
      "|       Mary|    2|\n",
      "|       Luke|    2|\n",
      "|      Jerry|    2|\n",
      "+-----------+-----+\n",
      "only showing top 20 rows\n",
      "\n"
     ]
    }
   ],
   "source": [
    "full_name_df = (\n",
    "    late_returns_df.select(\"customer_name\")\n",
    "    .withColumn(\"first_name\", split(col(\"customer_name\"), \" \").getItem(0))\n",
    "    .withColumn(\"last_name\", split(col(\"customer_name\"), \" \").getItem(1))\n",
    "    .drop(\"customer_name\")\n",
    ")\n",
    "\n",
    "first_name_df = full_name_df.groupBy(\"first_name\").count().orderBy(desc(\"count\"))\n",
    "first_name_df.show()"
   ]
  },
  {
   "cell_type": "code",
   "execution_count": 74,
   "metadata": {},
   "outputs": [
    {
     "name": "stdout",
     "output_type": "stream",
     "text": [
      "+---------+-----+\n",
      "|last_name|count|\n",
      "+---------+-----+\n",
      "|    Smith|    5|\n",
      "|      Lee|    3|\n",
      "|   Cooper|    2|\n",
      "|   Bolton|    2|\n",
      "|   Watson|    2|\n",
      "|  Hawkins|    2|\n",
      "|   Morgan|    2|\n",
      "| Williams|    2|\n",
      "|   Barber|    2|\n",
      "|   Dennis|    2|\n",
      "|  Kennedy|    2|\n",
      "|   Hughes|    2|\n",
      "|  Johnson|    2|\n",
      "|    Adams|    2|\n",
      "|  Saldana|    2|\n",
      "|  Jackson|    2|\n",
      "|    Lopez|    2|\n",
      "|Castaneda|    1|\n",
      "|  Donnell|    1|\n",
      "|     Hawk|    1|\n",
      "+---------+-----+\n",
      "only showing top 20 rows\n",
      "\n"
     ]
    }
   ],
   "source": [
    "last_name_df = full_name_df.groupBy(\"last_name\").count().orderBy(desc(\"count\"))\n",
    "last_name_df.show()"
   ]
  },
  {
   "cell_type": "code",
   "execution_count": 75,
   "metadata": {},
   "outputs": [
    {
     "name": "stdout",
     "output_type": "stream",
     "text": [
      "+-------------------+-----+\n",
      "|customer_occupation|count|\n",
      "+-------------------+-----+\n",
      "|    Admin & Support|   46|\n",
      "|              Sales|   45|\n",
      "|        Blue Collar|   44|\n",
      "|               Tech|   44|\n",
      "|             Others|   43|\n",
      "| Business & Finance|   42|\n",
      "| Education & Health|   36|\n",
      "|               null|   14|\n",
      "+-------------------+-----+\n",
      "\n"
     ]
    }
   ],
   "source": [
    "occupation_df = late_returns_df.groupBy(\"customer_occupation\").count().orderBy(desc(\"count\"))\n",
    "occupation_df.show()"
   ]
  },
  {
   "cell_type": "code",
   "execution_count": 76,
   "metadata": {},
   "outputs": [
    {
     "name": "stdout",
     "output_type": "stream",
     "text": [
      "+------------------+-----+\n",
      "|customer_education|count|\n",
      "+------------------+-----+\n",
      "|           College|   75|\n",
      "|            Others|   74|\n",
      "|       High School|   72|\n",
      "|   Graduate Degree|   71|\n",
      "|              null|   22|\n",
      "+------------------+-----+\n",
      "\n"
     ]
    }
   ],
   "source": [
    "education_df = late_returns_df.groupBy(\"customer_education\").count().orderBy(desc(\"count\"))\n",
    "education_df.show()"
   ]
  },
  {
   "cell_type": "code",
   "execution_count": 77,
   "metadata": {},
   "outputs": [
    {
     "name": "stdout",
     "output_type": "stream",
     "text": [
      "+---------------+-----+\n",
      "|customer_gender|count|\n",
      "+---------------+-----+\n",
      "|           male|  161|\n",
      "|         female|  141|\n",
      "|           null|   12|\n",
      "+---------------+-----+\n",
      "\n"
     ]
    }
   ],
   "source": [
    "gender_df = late_returns_df.groupBy(\"customer_gender\").count().orderBy(desc(\"count\"))\n",
    "gender_df.show()"
   ]
  },
  {
   "cell_type": "code",
   "execution_count": 78,
   "metadata": {},
   "outputs": [
    {
     "name": "stdout",
     "output_type": "stream",
     "text": [
      "+---------------+-------------------+------------------+-----+\n",
      "|customer_gender|customer_occupation|customer_education|count|\n",
      "+---------------+-------------------+------------------+-----+\n",
      "|           male|              Sales|           College|   12|\n",
      "|         female|              Sales|            Others|    8|\n",
      "|           male|    Admin & Support|           College|    8|\n",
      "|         female|        Blue Collar|            Others|    8|\n",
      "|           male| Business & Finance|           College|    8|\n",
      "|           male|    Admin & Support|   Graduate Degree|    8|\n",
      "|           male|              Sales|   Graduate Degree|    8|\n",
      "|           male| Education & Health|       High School|    7|\n",
      "|         female|               Tech|   Graduate Degree|    7|\n",
      "|           male|             Others|           College|    7|\n",
      "|           male|        Blue Collar|       High School|    7|\n",
      "|         female|        Blue Collar|       High School|    7|\n",
      "|           male|             Others|       High School|    7|\n",
      "|           male|    Admin & Support|       High School|    6|\n",
      "|         female|    Admin & Support|            Others|    6|\n",
      "|         female|               Tech|            Others|    6|\n",
      "|         female|               Tech|       High School|    6|\n",
      "|         female|             Others|           College|    6|\n",
      "|           male| Business & Finance|   Graduate Degree|    6|\n",
      "|         female|    Admin & Support|   Graduate Degree|    6|\n",
      "+---------------+-------------------+------------------+-----+\n",
      "only showing top 20 rows\n",
      "\n"
     ]
    }
   ],
   "source": [
    "gender_occupation_education_df = late_returns_df.groupBy(\"customer_gender\", \"customer_occupation\", \"customer_education\").count().orderBy(desc(\"count\"))\n",
    "gender_occupation_education_df.show()"
   ]
  }
 ],
 "metadata": {
  "kernelspec": {
   "display_name": "Python 3",
   "language": "python",
   "name": "python3"
  },
  "language_info": {
   "codemirror_mode": {
    "name": "ipython",
    "version": 3
   },
   "file_extension": ".py",
   "mimetype": "text/x-python",
   "name": "python",
   "nbconvert_exporter": "python",
   "pygments_lexer": "ipython3",
   "version": "3.10.4"
  }
 },
 "nbformat": 4,
 "nbformat_minor": 2
}
